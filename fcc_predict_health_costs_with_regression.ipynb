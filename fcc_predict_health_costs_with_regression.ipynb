{
  "cells": [
    {
      "cell_type": "markdown",
      "metadata": {
        "id": "view-in-github",
        "colab_type": "text"
      },
      "source": [
        "<a href=\"https://colab.research.google.com/github/suryakiran594/DS/blob/main/fcc_predict_health_costs_with_regression.ipynb\" target=\"_parent\"><img src=\"https://colab.research.google.com/assets/colab-badge.svg\" alt=\"Open In Colab\"/></a>"
      ]
    },
    {
      "cell_type": "code",
      "execution_count": null,
      "metadata": {
        "id": "1rRo8oNqZ-Rj"
      },
      "outputs": [],
      "source": [
        "# Import libraries. You may or may not use all of these.\n",
        "!pip install -q git+https://github.com/tensorflow/docs\n",
        "import matplotlib.pyplot as plt\n",
        "import numpy as np\n",
        "import pandas as pd\n",
        "\n",
        "try:\n",
        "  # %tensorflow_version only exists in Colab.\n",
        "  %tensorflow_version 2.x\n",
        "except Exception:\n",
        "  pass\n",
        "import tensorflow as tf\n",
        "\n",
        "from tensorflow import keras\n",
        "from tensorflow.keras import layers\n",
        "\n",
        "import tensorflow_docs as tfdocs\n",
        "import tensorflow_docs.plots\n",
        "import tensorflow_docs.modeling"
      ]
    },
    {
      "cell_type": "code",
      "execution_count": null,
      "metadata": {
        "id": "CiX2FI4gZtTt"
      },
      "outputs": [],
      "source": [
        "# Import data\n",
        "!wget https://cdn.freecodecamp.org/project-data/health-costs/insurance.csv\n",
        "dataset = pd.read_csv('insurance.csv')\n",
        "dataset.tail()"
      ]
    },
    {
      "cell_type": "markdown",
      "source": [],
      "metadata": {
        "id": "KOzGrZs0J4Ns"
      }
    },
    {
      "cell_type": "code",
      "execution_count": null,
      "metadata": {
        "id": "LcopvQh3X-kX"
      },
      "outputs": [],
      "source": [
        "dataset.info()"
      ]
    },
    {
      "cell_type": "code",
      "source": [
        "dataset.describe()"
      ],
      "metadata": {
        "id": "OboFlVPQJ6UK"
      },
      "execution_count": null,
      "outputs": []
    },
    {
      "cell_type": "code",
      "source": [
        "dataset.head"
      ],
      "metadata": {
        "id": "phzF0xcaJ564"
      },
      "execution_count": null,
      "outputs": []
    },
    {
      "cell_type": "code",
      "source": [
        "dataset.isnull().sum()"
      ],
      "metadata": {
        "id": "oQwmEOfjKOiC"
      },
      "execution_count": null,
      "outputs": []
    },
    {
      "cell_type": "code",
      "source": [
        "dataset.head()"
      ],
      "metadata": {
        "id": "GK58Vp2iKTJV"
      },
      "execution_count": null,
      "outputs": []
    },
    {
      "cell_type": "code",
      "source": [
        "list(dataset)"
      ],
      "metadata": {
        "id": "oAD99s7RKaWd"
      },
      "execution_count": null,
      "outputs": []
    },
    {
      "cell_type": "code",
      "source": [
        "dataset.info()"
      ],
      "metadata": {
        "id": "QtMBsn1CbLga"
      },
      "execution_count": null,
      "outputs": []
    },
    {
      "cell_type": "code",
      "source": [
        "dataset.head()"
      ],
      "metadata": {
        "id": "IZW98NMibUVx"
      },
      "execution_count": null,
      "outputs": []
    },
    {
      "cell_type": "code",
      "source": [
        "#Segregate numerical & categorical Columns\n",
        "\n",
        "dataset_numeric=dataset.columns[dataset.dtypes!='object']\n",
        "dataset_categorial=dataset.columns[dataset.dtypes=='object']\n",
        "print(\"Numerical Columns:\", dataset_numeric)\n",
        "print(\"categorial Columns:\", dataset_categorial)"
      ],
      "metadata": {
        "id": "13aaJHCpKaT2"
      },
      "execution_count": null,
      "outputs": []
    },
    {
      "cell_type": "code",
      "source": [
        "dataset['smoker'].value_counts()"
      ],
      "metadata": {
        "id": "8U-kzajfKaRH"
      },
      "execution_count": null,
      "outputs": []
    },
    {
      "cell_type": "code",
      "source": [
        "dataset['age']"
      ],
      "metadata": {
        "id": "3-zF5eW0KaPB"
      },
      "execution_count": null,
      "outputs": []
    },
    {
      "cell_type": "code",
      "source": [
        "import seaborn as sns\n",
        "import matplotlib.pyplot as plt\n",
        "plt.figure(figsize=(8,6))\n",
        "x=0\n",
        "\n",
        "for i in dataset_numeric:\n",
        "  sns.histplot(data=dataset,x=i,kde=True)\n",
        "  print('\\n')\n",
        "  plt.show()\n",
        "\n"
      ],
      "metadata": {
        "id": "ZF18A3N1KaM8"
      },
      "execution_count": null,
      "outputs": []
    },
    {
      "cell_type": "code",
      "source": [
        "import seaborn as sns\n",
        "import matplotlib.pyplot as plt\n",
        "plt.figure(figsize=(8,6))\n",
        "x=0\n",
        "\n",
        "for i in dataset_categorial:\n",
        "  sns.histplot(data=dataset,x=i,kde=True)\n",
        "  print('\\n')\n",
        "  plt.show()\n",
        "\n"
      ],
      "metadata": {
        "id": "fk02BEsrKaKA"
      },
      "execution_count": null,
      "outputs": []
    },
    {
      "cell_type": "code",
      "source": [],
      "metadata": {
        "id": "YjPkvSHPfScf"
      },
      "execution_count": null,
      "outputs": []
    },
    {
      "cell_type": "markdown",
      "source": [
        "## CHECK FOR THE DUPLIATED RECORDS"
      ],
      "metadata": {
        "id": "bo1IoleUfyQd"
      }
    },
    {
      "cell_type": "code",
      "source": [
        "dataset.duplicated().sum()"
      ],
      "metadata": {
        "id": "PsydM8e7KaH1"
      },
      "execution_count": null,
      "outputs": []
    },
    {
      "cell_type": "markdown",
      "source": [
        "##CORREALATION "
      ],
      "metadata": {
        "id": "mqtufp57gUg_"
      }
    },
    {
      "cell_type": "code",
      "source": [
        "sns.heatmap(dataset.corr(),annot=True)"
      ],
      "metadata": {
        "id": "BBHpjS5qKaBA"
      },
      "execution_count": null,
      "outputs": []
    },
    {
      "cell_type": "code",
      "source": [
        "dataset.head()"
      ],
      "metadata": {
        "id": "B6_T5PMDKZ-N"
      },
      "execution_count": null,
      "outputs": []
    },
    {
      "cell_type": "code",
      "source": [
        "dataset['age'].unique()"
      ],
      "metadata": {
        "id": "DnofxzrAKZ78"
      },
      "execution_count": null,
      "outputs": []
    },
    {
      "cell_type": "code",
      "source": [
        "dataset['smoker'].unique()"
      ],
      "metadata": {
        "id": "hUopwLF0KZ6D"
      },
      "execution_count": null,
      "outputs": []
    },
    {
      "cell_type": "code",
      "source": [
        "dataset['children'].unique()"
      ],
      "metadata": {
        "id": "nc-hHE2mKZ3I"
      },
      "execution_count": null,
      "outputs": []
    },
    {
      "cell_type": "code",
      "source": [
        "dataset.sort_values(by='bmi',ascending=False)"
      ],
      "metadata": {
        "id": "SHaG2VpgKZys"
      },
      "execution_count": null,
      "outputs": []
    },
    {
      "cell_type": "code",
      "source": [
        "smoker_map={'yes':1,'no':0}"
      ],
      "metadata": {
        "id": "3CxJDwZWKZwS"
      },
      "execution_count": null,
      "outputs": []
    },
    {
      "cell_type": "code",
      "source": [
        "region_map={'northeast':1,'northwest':2,'southeast':3,'southwest':4}"
      ],
      "metadata": {
        "id": "AenvOsqaKZuH"
      },
      "execution_count": null,
      "outputs": []
    },
    {
      "cell_type": "code",
      "source": [
        "sex_map={'male':1,'female':2}"
      ],
      "metadata": {
        "id": "3yY0HsU6KZrw"
      },
      "execution_count": null,
      "outputs": []
    },
    {
      "cell_type": "code",
      "source": [
        "dataset['smoker']=dataset['smoker'].map(smoker_map)\n",
        "dataset['region']=dataset['region'].map(region_map)\n",
        "dataset['sex']=dataset['sex'].map(sex_map)\n"
      ],
      "metadata": {
        "id": "uQisQ1vcKZpR"
      },
      "execution_count": null,
      "outputs": []
    },
    {
      "cell_type": "code",
      "source": [
        "dataset"
      ],
      "metadata": {
        "id": "qKoccjcEKZm0"
      },
      "execution_count": null,
      "outputs": []
    },
    {
      "cell_type": "code",
      "source": [
        "group1_age = dataset[dataset['age'].between(0,35)]\n",
        "group2_age = dataset[dataset['age'].between(36,45)]\n",
        "group3_age = dataset[dataset['age'].between(46,55)]\n",
        "group4_age = dataset[dataset['age'].between(55,65)]\n"
      ],
      "metadata": {
        "id": "x4TEb7flKZke"
      },
      "execution_count": null,
      "outputs": []
    },
    {
      "cell_type": "code",
      "source": [
        "underweight_bmi=dataset[dataset['bmi'].between(0.0,18.5)]\n",
        "healthyweight_bmi=dataset[dataset['bmi'].between(18.5,25.0)]\n",
        "overweight_bmi=dataset[dataset['bmi'].between(25.0,30.0)]\n",
        "obesity_bmi=dataset[dataset['bmi'].between(30.0,55.5)]"
      ],
      "metadata": {
        "id": "4VThu4jlnXzo"
      },
      "execution_count": null,
      "outputs": []
    },
    {
      "cell_type": "code",
      "source": [
        "yes_smoker=dataset[dataset['smoker']==1]\n",
        "non_smoker=dataset[dataset['smoker']==0]"
      ],
      "metadata": {
        "id": "BOz0lUNyLi0x"
      },
      "execution_count": null,
      "outputs": []
    },
    {
      "cell_type": "code",
      "source": [
        "yes_smoker\n",
        "\n"
      ],
      "metadata": {
        "id": "iNZTglpcL8Dr"
      },
      "execution_count": null,
      "outputs": []
    },
    {
      "cell_type": "code",
      "source": [
        "underweight_bmi"
      ],
      "metadata": {
        "id": "GWu-u5JloGMh"
      },
      "execution_count": null,
      "outputs": []
    },
    {
      "cell_type": "code",
      "source": [
        "group1_age"
      ],
      "metadata": {
        "id": "75kl6EYLWFt_"
      },
      "execution_count": null,
      "outputs": []
    },
    {
      "cell_type": "code",
      "source": [
        "X=dataset.drop(labels=['expenses'],axis=1)"
      ],
      "metadata": {
        "id": "aFMvApovS3Wz"
      },
      "execution_count": null,
      "outputs": []
    },
    {
      "cell_type": "code",
      "source": [
        "X"
      ],
      "metadata": {
        "id": "qfhX4ldzS3Tp"
      },
      "execution_count": null,
      "outputs": []
    },
    {
      "cell_type": "code",
      "source": [
        "y=dataset['expenses']"
      ],
      "metadata": {
        "id": "Tsb8VGKOS3Q-"
      },
      "execution_count": null,
      "outputs": []
    },
    {
      "cell_type": "code",
      "source": [
        "y"
      ],
      "metadata": {
        "id": "qOagAqYmS3O4"
      },
      "execution_count": null,
      "outputs": []
    },
    {
      "cell_type": "code",
      "source": [
        "# Define which columns should be ordinal-encoded and which should be scaled\n",
        "dataset_categorial = X.select_dtypes(include='object').columns\n",
        "dataset_numeric = X.select_dtypes(exclude='object').columns\n"
      ],
      "metadata": {
        "id": "_w8paVjqS3Cn"
      },
      "execution_count": null,
      "outputs": []
    },
    {
      "cell_type": "code",
      "source": [
        "#Define the custom ranking for each ordinal variable\n",
        "age_categories=[\"group1_age\",\"group2_age\",\"group3_age\",\"group4_age\"]\n",
        "smoker_categories=['non_smoker','yes_smoker']\n",
        "bmi_categories=['healthyweight_bmi','underweight_bmi','overweight_bmi','obesity_bmi']"
      ],
      "metadata": {
        "id": "cockYz3Je-AD"
      },
      "execution_count": null,
      "outputs": []
    },
    {
      "cell_type": "code",
      "source": [
        "from sklearn.impute import SimpleImputer  # Handling Missing Values\n",
        "from sklearn.preprocessing import StandardScaler # Handling Feature Scaling\n",
        "from sklearn.preprocessing import OrdinalEncoder # Odinal Encoding\n",
        "##PIPELINES\n",
        "from sklearn.pipeline import Pipeline\n",
        "from sklearn.compose import ColumnTransformer"
      ],
      "metadata": {
        "id": "y2joN57inmLP"
      },
      "execution_count": null,
      "outputs": []
    },
    {
      "cell_type": "code",
      "source": [
        "## Numerical Pipeline\n",
        "num_pipeline=Pipeline(\n",
        "    steps=[\n",
        "    ('imputer', SimpleImputer(strategy='median')),\n",
        "     ('scaler',StandardScaler())\n",
        "]\n",
        ")\n",
        "\n",
        "# Categorical Pipeline\n",
        "\n",
        "cat_pipeline=Pipeline(\n",
        "    steps=[\n",
        "    ('imputer', SimpleImputer(strategy='most_frequent')),\n",
        "    ('ordinalencoder',OrdinalEncoder(categories=[age_categories,smoker_categories,bmi_categories])),\n",
        "    ('scaler',StandardScaler())\n",
        "\n",
        "    ]\n",
        ")\n",
        "\n",
        "preprocessor=ColumnTransformer([\n",
        "    ('num_pipeline',num_pipeline,dataset_numeric),\n",
        "    ('cat_pipeline',cat_pipeline,dataset_cat)\n",
        "])"
      ],
      "metadata": {
        "id": "RUlbl9MInmI-"
      },
      "execution_count": null,
      "outputs": []
    },
    {
      "cell_type": "code",
      "source": [
        "# Train test split\n",
        "from sklearn.model_selection import train_test_split\n",
        "X_train,X_test,y_train,y_test=train_test_split(X,y,test_size=0.30,random_state=30)"
      ],
      "metadata": {
        "id": "mtq5pP54nl6B"
      },
      "execution_count": null,
      "outputs": []
    },
    {
      "cell_type": "code",
      "source": [
        "X_train=pd.DataFrame(preprocessor.fit_transform(X_train),columns=preprocessor.get_feature_names_out())\n",
        "X_test=pd.DataFrame(preprocessor.transform(X_test),columns=preprocessor.get_feature_names_out())"
      ],
      "metadata": {
        "id": "qY-n0U8_QjN8"
      },
      "execution_count": null,
      "outputs": []
    },
    {
      "cell_type": "code",
      "source": [
        "# Model Training\n",
        "\n",
        "from sklearn.linear_model import LinearRegression,Lasso,Ridge,ElasticNet\n",
        "from sklearn.metrics import r2_score,mean_absolute_error,mean_squared_error"
      ],
      "metadata": {
        "id": "17QlyAhdQi8A"
      },
      "execution_count": null,
      "outputs": []
    },
    {
      "cell_type": "code",
      "source": [
        "regression=LinearRegression()\n",
        "regression.fit(X_train,y_train)"
      ],
      "metadata": {
        "id": "YAdZi4tVSUjq"
      },
      "execution_count": null,
      "outputs": []
    },
    {
      "cell_type": "code",
      "source": [
        "regression.coef_"
      ],
      "metadata": {
        "id": "tpaqAdRoSUgS"
      },
      "execution_count": null,
      "outputs": []
    },
    {
      "cell_type": "code",
      "source": [
        "regression.intercept_"
      ],
      "metadata": {
        "id": "ceua4RoASnsF"
      },
      "execution_count": null,
      "outputs": []
    },
    {
      "cell_type": "code",
      "source": [
        "import numpy as np\n",
        "def evaluate_model(true,predicted):\n",
        "    mae=mean_absolute_error(true,predicted)\n",
        "    mse=mean_squared_error(true,predicted)\n",
        "    rmse=np.sqrt(mean_squared_error(true,predicted))\n",
        "    r2_square = r2_score(true, predicted)\n",
        "    return mae, rmse, r2_square\n"
      ],
      "metadata": {
        "id": "UJqmEM27Ssdc"
      },
      "execution_count": null,
      "outputs": []
    },
    {
      "cell_type": "code",
      "source": [
        "## Train multiple models\n",
        "models={\n",
        "    'LinearRegression':LinearRegression(),\n",
        "    'Lasso':Lasso(),\n",
        "    'Ridge':Ridge(),\n",
        "    'Elasticnet':ElasticNet()\n",
        "}\n",
        "\n",
        "trained_model_list=[]\n",
        "model_list=[]\n",
        "r2_list=[]\n",
        "\n",
        "for i in range(len(list(models))):\n",
        "    model=list(models.values())[i]\n",
        "    model.fit(X_train,y_train)\n",
        "    \n",
        "    #make prediction\n",
        "\n",
        "    y_pred=model.predict(X_test)\n",
        "    mae,rmse,r2_square=evaluate_model(y_test,y_pred)\n",
        "\n",
        "    print(list(models.keys())[i])\n",
        "    model_list.append(list(models.keys())[i])\n",
        "    print('Model Training Performance')\n",
        "    print(\"RMSE:\",rmse)\n",
        "    print(\"MAE:\",mae)\n",
        "    print(\"R2 score\",r2_square*100)\n",
        "\n",
        "    r2_list.append(r2_square)\n",
        "    \n",
        "    print('='*35)\n",
        "    print('\\n')\n",
        "    "
      ],
      "metadata": {
        "id": "phXXcHxYSuBB"
      },
      "execution_count": null,
      "outputs": []
    },
    {
      "cell_type": "code",
      "execution_count": null,
      "metadata": {
        "id": "Xe7RXH3N3CWU"
      },
      "outputs": [],
      "source": [
        "# RUN THIS CELL TO TEST YOUR MODEL. DO NOT MODIFY CONTENTS.\n",
        "# Test model by checking how well the model generalizes using the test set.\n",
        "loss, mae, mse = model.evaluate(test_dataset, test_labels, verbose=2)\n",
        "\n",
        "print(\"Testing set Mean Abs Error: {:5.2f} expenses\".format(mae))\n",
        "\n",
        "if mae < 3500:\n",
        "  print(\"You passed the challenge. Great job!\")\n",
        "else:\n",
        "  print(\"The Mean Abs Error must be less than 3500. Keep trying.\")\n",
        "\n",
        "# Plot predictions.\n",
        "test_predictions = model.predict(test_dataset).flatten()\n",
        "\n",
        "a = plt.axes(aspect='equal')\n",
        "plt.scatter(test_labels, test_predictions)\n",
        "plt.xlabel('True values (expenses)')\n",
        "plt.ylabel('Predictions (expenses)')\n",
        "lims = [0, 50000]\n",
        "plt.xlim(lims)\n",
        "plt.ylim(lims)\n",
        "_ = plt.plot(lims,lims)\n"
      ]
    }
  ],
  "metadata": {
    "colab": {
      "private_outputs": true,
      "provenance": [],
      "toc_visible": true,
      "include_colab_link": true
    },
    "kernelspec": {
      "display_name": "Python 3",
      "name": "python3"
    },
    "gpuClass": "standard",
    "accelerator": "GPU"
  },
  "nbformat": 4,
  "nbformat_minor": 0
}