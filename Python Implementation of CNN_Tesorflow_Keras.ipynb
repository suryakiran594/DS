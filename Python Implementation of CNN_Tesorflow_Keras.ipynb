{
 "cells": [
  {
   "cell_type": "code",
   "execution_count": 10,
   "id": "8d94b9ad-b457-48c3-ac8f-2b1bcbbaba06",
   "metadata": {},
   "outputs": [],
   "source": [
    "import tensorflow as tf\n",
    "from tensorflow.keras import layers,models,datasets"
   ]
  },
  {
   "cell_type": "code",
   "execution_count": 12,
   "id": "fd373c52-dd64-4d9d-a55c-aa9557de9496",
   "metadata": {},
   "outputs": [
    {
     "name": "stdout",
     "output_type": "stream",
     "text": [
      "Downloading data from https://www.cs.toronto.edu/~kriz/cifar-10-python.tar.gz\n",
      "170498071/170498071 [==============================] - 10s 0us/step\n"
     ]
    }
   ],
   "source": [
    "#Load dataset\n",
    "(train_images,train_labels),(test_images,test_labels)=datasets.cifar10.load_data()"
   ]
  },
  {
   "cell_type": "code",
   "execution_count": 13,
   "id": "2be48b7a-befd-4be0-850d-a182bd71e237",
   "metadata": {},
   "outputs": [],
   "source": [
    "#Normalize pixel values\n",
    "train_images,test_images=train_images/255.0,test_images/255.0"
   ]
  },
  {
   "cell_type": "code",
   "execution_count": 16,
   "id": "3d668075-776b-41ad-a4bc-5ce3b8a6fe8d",
   "metadata": {},
   "outputs": [],
   "source": [
    "#Define CNN architecture\n",
    "\n",
    "model=models.Sequential()\n",
    "model.add(layers.Conv2D(32,(3,3),activation='relu',input_shape=(32,32,3)))\n",
    "model.add(layers.MaxPooling2D((2,2)))\n",
    "model.add(layers.Conv2D(64,(3,3),activation='relu'))\n",
    "model.add(layers.MaxPooling2D((2,2)))\n",
    "model.add(layers.Conv2D(64,(3,3),activation='relu'))\n",
    "model.add(layers.Flatten())\n",
    "model.add(layers.Dense(64,activation='relu'))\n",
    "model.add(layers.Dense(10))"
   ]
  },
  {
   "cell_type": "code",
   "execution_count": null,
   "id": "0326f3d3-3ce4-4254-ac54-00e08bdae327",
   "metadata": {},
   "outputs": [
    {
     "name": "stdout",
     "output_type": "stream",
     "text": [
      "Epoch 1/10\n",
      "1563/1563 [==============================] - 14s 9ms/step - loss: 1.5353 - accuracy: 0.4377 - val_loss: 1.2578 - val_accuracy: 0.5437\n",
      "Epoch 2/10\n",
      "1563/1563 [==============================] - 15s 10ms/step - loss: 1.1607 - accuracy: 0.5871 - val_loss: 1.1033 - val_accuracy: 0.6040\n",
      "Epoch 3/10\n",
      "1563/1563 [==============================] - 16s 10ms/step - loss: 1.0238 - accuracy: 0.6396 - val_loss: 1.0341 - val_accuracy: 0.6387\n",
      "Epoch 4/10\n",
      "1563/1563 [==============================] - 17s 11ms/step - loss: 0.9324 - accuracy: 0.6723 - val_loss: 0.9641 - val_accuracy: 0.6660\n",
      "Epoch 5/10\n",
      "1563/1563 [==============================] - 17s 11ms/step - loss: 0.8576 - accuracy: 0.6994 - val_loss: 0.9201 - val_accuracy: 0.6851\n",
      "Epoch 6/10\n",
      "1563/1563 [==============================] - 17s 11ms/step - loss: 0.8035 - accuracy: 0.7190 - val_loss: 0.8991 - val_accuracy: 0.6889\n",
      "Epoch 7/10\n",
      "1563/1563 [==============================] - 17s 11ms/step - loss: 0.7556 - accuracy: 0.7358 - val_loss: 0.8803 - val_accuracy: 0.6967\n",
      "Epoch 8/10\n",
      "1563/1563 [==============================] - 17s 11ms/step - loss: 0.7153 - accuracy: 0.7483 - val_loss: 0.8506 - val_accuracy: 0.7080\n",
      "Epoch 9/10\n",
      "1563/1563 [==============================] - 17s 11ms/step - loss: 0.6781 - accuracy: 0.7627 - val_loss: 0.8484 - val_accuracy: 0.7131\n",
      "Epoch 10/10\n",
      " 375/1563 [======>.......................] - ETA: 11s - loss: 0.6256 - accuracy: 0.7853"
     ]
    }
   ],
   "source": [
    "#Compile_model\n",
    "\n",
    "model.compile(optimizer='adam',\n",
    "             loss=tf.keras.losses.SparseCategoricalCrossentropy\n",
    "             (from_logits=True),metrics=['accuracy'])\n",
    "\n",
    "#Train_model\n",
    "\n",
    "model.fit(train_images,train_labels,epochs=10,\n",
    "          validation_data=(test_images,test_labels))"
   ]
  },
  {
   "cell_type": "code",
   "execution_count": null,
   "id": "d1d1ebb4-7163-4a04-ad8a-d7b7343e6421",
   "metadata": {},
   "outputs": [],
   "source": []
  }
 ],
 "metadata": {
  "kernelspec": {
   "display_name": "Python 3 (ipykernel)",
   "language": "python",
   "name": "python3"
  },
  "language_info": {
   "codemirror_mode": {
    "name": "ipython",
    "version": 3
   },
   "file_extension": ".py",
   "mimetype": "text/x-python",
   "name": "python",
   "nbconvert_exporter": "python",
   "pygments_lexer": "ipython3",
   "version": "3.11.5"
  }
 },
 "nbformat": 4,
 "nbformat_minor": 5
}
