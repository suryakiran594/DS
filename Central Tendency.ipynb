{
 "cells": [
  {
   "cell_type": "markdown",
   "id": "d8b67d8c",
   "metadata": {},
   "source": [
    "# Understanding Central Tendency"
   ]
  },
  {
   "cell_type": "code",
   "execution_count": 3,
   "id": "5f749de6",
   "metadata": {},
   "outputs": [],
   "source": [
    "Central tendency is the property of data to be distributed about a characteristic value.In data science and statistics, the two \n",
    "most important measures of central tendency are the mean and median."
   ]
  },
  {
   "cell_type": "markdown",
   "id": "e1e174ca",
   "metadata": {},
   "source": [
    "# Calculating Mean and Median for a Dataset"
   ]
  },
  {
   "cell_type": "code",
   "execution_count": 14,
   "id": "56939b42",
   "metadata": {},
   "outputs": [],
   "source": [
    "import numpy as np\n",
    "import matplotlib.pyplot as plt\n"
   ]
  },
  {
   "cell_type": "code",
   "execution_count": 8,
   "id": "1f554f30",
   "metadata": {},
   "outputs": [
    {
     "data": {
      "image/png": "[encoded data removed]",
      "text/plain": [
       "<Figure size 640x480 with 1 Axes>"
      ]
     },
     "metadata": {},
     "output_type": "display_data"
    }
   ],
   "source": [
    "np.random.seed(1)\n",
    "data1=np.random.uniform(0,10,1000)\n",
    "data2=np.append(data1,np.linspace(150,200,100))\n",
    "data2=np.append(data2,np.linspace(15,25,10))\n",
    "data=list([data1,data2])\n",
    "fig,ax=plt.subplots()\n",
    "#build a box plot\n",
    "ax.boxplot(data)\n",
    "ax.set_ylim(0,25)\n",
    "xticklabels=['Sample data','Sample data with outliers']\n",
    "ax.set_xticklabels(xticklabels)\n",
    "\n",
    "#add horizontal grid lines\n",
    "ax.yaxis.grid(True)\n",
    "\n",
    "#Show the plot\n",
    "plt.show()"
   ]
  },
  {
   "cell_type": "markdown",
   "id": "54faeabb",
   "metadata": {},
   "source": [
    "# Mean and Median of sample data with out outliers"
   ]
  },
  {
   "cell_type": "code",
   "execution_count": 10,
   "id": "ccd03f30",
   "metadata": {},
   "outputs": [
    {
     "data": {
      "text/plain": [
       "5.006045994559051"
      ]
     },
     "execution_count": 10,
     "metadata": {},
     "output_type": "execute_result"
    }
   ],
   "source": [
    "np.mean(data1)"
   ]
  },
  {
   "cell_type": "code",
   "execution_count": 11,
   "id": "c5d0b9b7",
   "metadata": {},
   "outputs": [
    {
     "data": {
      "text/plain": [
       "5.075008116147119"
      ]
     },
     "execution_count": 11,
     "metadata": {},
     "output_type": "execute_result"
    }
   ],
   "source": [
    "np.median(data1)"
   ]
  },
  {
   "cell_type": "markdown",
   "id": "644e284a",
   "metadata": {},
   "source": [
    "# Mean and Median of sample data with outliers"
   ]
  },
  {
   "cell_type": "code",
   "execution_count": 12,
   "id": "4de4abb1",
   "metadata": {},
   "outputs": [
    {
     "data": {
      "text/plain": [
       "20.455897292395537"
      ]
     },
     "execution_count": 12,
     "metadata": {},
     "output_type": "execute_result"
    }
   ],
   "source": [
    "np.mean(data2)"
   ]
  },
  {
   "cell_type": "code",
   "execution_count": 13,
   "id": "c0478849",
   "metadata": {},
   "outputs": [
    {
     "data": {
      "text/plain": [
       "5.565300519330409"
      ]
     },
     "execution_count": 13,
     "metadata": {},
     "output_type": "execute_result"
    }
   ],
   "source": [
    "np.median(data2)"
   ]
  },
  {
   "cell_type": "markdown",
   "id": "1105f776",
   "metadata": {},
   "source": [
    "We observe that the presence of outliers in the second dataset led to an increase in the mean value from 5.56 to 20.45, while the \n",
    "change in median value from 5.07 to 5.0 was very small compared to the change in the man value.\n",
    "\n",
    "This shows that the median value is a robust measure of central tendency as it is less susceptible o the presence of outlers\n",
    "in the dataset"
   ]
  },
  {
   "cell_type": "markdown",
   "id": "8d5b9db2",
   "metadata": {},
   "source": [
    "# Summary"
   ]
  },
  {
   "cell_type": "markdown",
   "id": "bc9f610d",
   "metadata": {},
   "source": [
    "in summary, we have reviewed the two most important metrics for calculating central tendency. The mean value is easy to compute, \n",
    "but is highly susceptible to the presence of outliers in the dataset. The median is a robus measure of central tendency, and is\n",
    "less susceptible to the presence of outliers."
   ]
  },
  {
   "cell_type": "code",
   "execution_count": null,
   "id": "cf6a3bad",
   "metadata": {},
   "outputs": [],
   "source": []
  }
 ],
 "metadata": {
  "kernelspec": {
   "display_name": "Python 3 (ipykernel)",
   "language": "python",
   "name": "python3"
  },
  "language_info": {
   "codemirror_mode": {
    "name": "ipython",
    "version": 3
   },
   "file_extension": ".py",
   "mimetype": "text/x-python",
   "name": "python",
   "nbconvert_exporter": "python",
   "pygments_lexer": "ipython3",
   "version": "3.9.13"
  }
 },
 "nbformat": 4,
 "nbformat_minor": 5
}
