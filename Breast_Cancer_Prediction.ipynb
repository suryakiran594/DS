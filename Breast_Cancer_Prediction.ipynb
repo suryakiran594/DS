{
 "cells": [
  {
   "cell_type": "markdown",
   "id": "0f65e442",
   "metadata": {},
   "source": [
    "# Breast_Cancer_Survival_Prediction"
   ]
  },
  {
   "cell_type": "markdown",
   "id": "761dd275",
   "metadata": {},
   "source": [
    "About Dataset\n",
    "Breast cancer is a type of cancer that develops in the cells of the breast. It occurs when the cells in the breast grow and divide uncontrollably, forming a mass or lump. Breast cancer can spread to other parts of the body if not detected and treated early.\n",
    "\n",
    "The dataset contains information on breast cancer patients, including their Patient_ID, Age, Gender, and expression levels of four proteins (Protein1, Protein2, Protein3, Protein4). The dataset also includes the Breast cancer stage of the patient (Tumor_Stage), Histology (type of cancer), ER, PR, and HER2 status, Surgery_type, Date of Surgery, Date of Last Visit, and Patient Status (Alive/Dead).\n",
    "\n",
    "This information can be used to analyze the relationship between protein expression levels, cancer stage, and patient outcomes. It can also be used to understand the impact of different types of surgeries on patient survival and to identify potential risk factors for breast cancer progression.\n",
    "\n"
   ]
  },
  {
   "cell_type": "code",
   "execution_count": 2,
   "id": "10d72c5f",
   "metadata": {},
   "outputs": [],
   "source": [
    "import pandas as pd\n",
    "import numpy as np\n",
    "import matplotlib.pyplot as plt\n",
    "import plotly.express as px\n",
    "import warnings\n",
    "warnings.filterwarnings('ignore')\n"
   ]
  },
  {
   "cell_type": "code",
   "execution_count": 3,
   "id": "2ce1b26f",
   "metadata": {},
   "outputs": [
    {
     "data": {
      "text/html": [
       "<div>\n",
       "<style scoped>\n",
       "    .dataframe tbody tr th:only-of-type {\n",
       "        vertical-align: middle;\n",
       "    }\n",
       "\n",
       "    .dataframe tbody tr th {\n",
       "        vertical-align: top;\n",
       "    }\n",
       "\n",
       "    .dataframe thead th {\n",
       "        text-align: right;\n",
       "    }\n",
       "</style>\n",
       "<table border=\"1\" class=\"dataframe\">\n",
       "  <thead>\n",
       "    <tr style=\"text-align: right;\">\n",
       "      <th></th>\n",
       "      <th>Age</th>\n",
       "      <th>Gender</th>\n",
       "      <th>Protein1</th>\n",
       "      <th>Protein2</th>\n",
       "      <th>Protein3</th>\n",
       "      <th>Protein4</th>\n",
       "      <th>Tumour_Stage</th>\n",
       "      <th>Histology</th>\n",
       "      <th>ER status</th>\n",
       "      <th>PR status</th>\n",
       "      <th>HER2 status</th>\n",
       "      <th>Surgery_type</th>\n",
       "      <th>Date_of_Surgery</th>\n",
       "      <th>Date_of_Last_Visit</th>\n",
       "      <th>Patient_Status</th>\n",
       "    </tr>\n",
       "  </thead>\n",
       "  <tbody>\n",
       "    <tr>\n",
       "      <th>0</th>\n",
       "      <td>42</td>\n",
       "      <td>FEMALE</td>\n",
       "      <td>0.95256</td>\n",
       "      <td>2.15000</td>\n",
       "      <td>0.007972</td>\n",
       "      <td>-0.048340</td>\n",
       "      <td>II</td>\n",
       "      <td>Infiltrating Ductal Carcinoma</td>\n",
       "      <td>Positive</td>\n",
       "      <td>Positive</td>\n",
       "      <td>Negative</td>\n",
       "      <td>Other</td>\n",
       "      <td>20-May-18</td>\n",
       "      <td>26-Aug-18</td>\n",
       "      <td>Alive</td>\n",
       "    </tr>\n",
       "    <tr>\n",
       "      <th>1</th>\n",
       "      <td>54</td>\n",
       "      <td>FEMALE</td>\n",
       "      <td>0.00000</td>\n",
       "      <td>1.38020</td>\n",
       "      <td>-0.498030</td>\n",
       "      <td>-0.507320</td>\n",
       "      <td>II</td>\n",
       "      <td>Infiltrating Ductal Carcinoma</td>\n",
       "      <td>Positive</td>\n",
       "      <td>Positive</td>\n",
       "      <td>Negative</td>\n",
       "      <td>Other</td>\n",
       "      <td>26-Apr-18</td>\n",
       "      <td>25-Jan-19</td>\n",
       "      <td>Dead</td>\n",
       "    </tr>\n",
       "    <tr>\n",
       "      <th>2</th>\n",
       "      <td>63</td>\n",
       "      <td>FEMALE</td>\n",
       "      <td>-0.52303</td>\n",
       "      <td>1.76400</td>\n",
       "      <td>-0.370190</td>\n",
       "      <td>0.010815</td>\n",
       "      <td>II</td>\n",
       "      <td>Infiltrating Ductal Carcinoma</td>\n",
       "      <td>Positive</td>\n",
       "      <td>Positive</td>\n",
       "      <td>Negative</td>\n",
       "      <td>Lumpectomy</td>\n",
       "      <td>24-Aug-18</td>\n",
       "      <td>08-Apr-20</td>\n",
       "      <td>Alive</td>\n",
       "    </tr>\n",
       "    <tr>\n",
       "      <th>3</th>\n",
       "      <td>78</td>\n",
       "      <td>FEMALE</td>\n",
       "      <td>-0.87618</td>\n",
       "      <td>0.12943</td>\n",
       "      <td>-0.370380</td>\n",
       "      <td>0.132190</td>\n",
       "      <td>I</td>\n",
       "      <td>Infiltrating Ductal Carcinoma</td>\n",
       "      <td>Positive</td>\n",
       "      <td>Positive</td>\n",
       "      <td>Negative</td>\n",
       "      <td>Other</td>\n",
       "      <td>16-Nov-18</td>\n",
       "      <td>28-Jul-20</td>\n",
       "      <td>Alive</td>\n",
       "    </tr>\n",
       "    <tr>\n",
       "      <th>4</th>\n",
       "      <td>42</td>\n",
       "      <td>FEMALE</td>\n",
       "      <td>0.22611</td>\n",
       "      <td>1.74910</td>\n",
       "      <td>-0.543970</td>\n",
       "      <td>-0.390210</td>\n",
       "      <td>II</td>\n",
       "      <td>Infiltrating Ductal Carcinoma</td>\n",
       "      <td>Positive</td>\n",
       "      <td>Positive</td>\n",
       "      <td>Positive</td>\n",
       "      <td>Lumpectomy</td>\n",
       "      <td>12-Dec-18</td>\n",
       "      <td>05-Jan-19</td>\n",
       "      <td>Alive</td>\n",
       "    </tr>\n",
       "  </tbody>\n",
       "</table>\n",
       "</div>"
      ],
      "text/plain": [
       "   Age  Gender  Protein1  Protein2  Protein3  Protein4 Tumour_Stage  \\\n",
       "0   42  FEMALE   0.95256   2.15000  0.007972 -0.048340           II   \n",
       "1   54  FEMALE   0.00000   1.38020 -0.498030 -0.507320           II   \n",
       "2   63  FEMALE  -0.52303   1.76400 -0.370190  0.010815           II   \n",
       "3   78  FEMALE  -0.87618   0.12943 -0.370380  0.132190            I   \n",
       "4   42  FEMALE   0.22611   1.74910 -0.543970 -0.390210           II   \n",
       "\n",
       "                       Histology ER status PR status HER2 status Surgery_type  \\\n",
       "0  Infiltrating Ductal Carcinoma  Positive  Positive    Negative        Other   \n",
       "1  Infiltrating Ductal Carcinoma  Positive  Positive    Negative        Other   \n",
       "2  Infiltrating Ductal Carcinoma  Positive  Positive    Negative   Lumpectomy   \n",
       "3  Infiltrating Ductal Carcinoma  Positive  Positive    Negative        Other   \n",
       "4  Infiltrating Ductal Carcinoma  Positive  Positive    Positive   Lumpectomy   \n",
       "\n",
       "  Date_of_Surgery Date_of_Last_Visit Patient_Status  \n",
       "0       20-May-18          26-Aug-18          Alive  \n",
       "1       26-Apr-18          25-Jan-19           Dead  \n",
       "2       24-Aug-18          08-Apr-20          Alive  \n",
       "3       16-Nov-18          28-Jul-20          Alive  \n",
       "4       12-Dec-18          05-Jan-19          Alive  "
      ]
     },
     "execution_count": 3,
     "metadata": {},
     "output_type": "execute_result"
    }
   ],
   "source": [
    "df=pd.read_csv('downloads/breast_cancer_survival.csv')\n",
    "df.head()"
   ]
  },
  {
   "cell_type": "code",
   "execution_count": 4,
   "id": "16fb17d7",
   "metadata": {},
   "outputs": [
    {
     "name": "stdout",
     "output_type": "stream",
     "text": [
      "<class 'pandas.core.frame.DataFrame'>\n",
      "RangeIndex: 334 entries, 0 to 333\n",
      "Data columns (total 15 columns):\n",
      " #   Column              Non-Null Count  Dtype  \n",
      "---  ------              --------------  -----  \n",
      " 0   Age                 334 non-null    int64  \n",
      " 1   Gender              334 non-null    object \n",
      " 2   Protein1            334 non-null    float64\n",
      " 3   Protein2            334 non-null    float64\n",
      " 4   Protein3            334 non-null    float64\n",
      " 5   Protein4            334 non-null    float64\n",
      " 6   Tumour_Stage        334 non-null    object \n",
      " 7   Histology           334 non-null    object \n",
      " 8   ER status           334 non-null    object \n",
      " 9   PR status           334 non-null    object \n",
      " 10  HER2 status         334 non-null    object \n",
      " 11  Surgery_type        334 non-null    object \n",
      " 12  Date_of_Surgery     334 non-null    object \n",
      " 13  Date_of_Last_Visit  317 non-null    object \n",
      " 14  Patient_Status      321 non-null    object \n",
      "dtypes: float64(4), int64(1), object(10)\n",
      "memory usage: 39.3+ KB\n"
     ]
    }
   ],
   "source": [
    "df.info()"
   ]
  },
  {
   "cell_type": "code",
   "execution_count": 5,
   "id": "508079e4",
   "metadata": {},
   "outputs": [
    {
     "data": {
      "text/html": [
       "<div>\n",
       "<style scoped>\n",
       "    .dataframe tbody tr th:only-of-type {\n",
       "        vertical-align: middle;\n",
       "    }\n",
       "\n",
       "    .dataframe tbody tr th {\n",
       "        vertical-align: top;\n",
       "    }\n",
       "\n",
       "    .dataframe thead th {\n",
       "        text-align: right;\n",
       "    }\n",
       "</style>\n",
       "<table border=\"1\" class=\"dataframe\">\n",
       "  <thead>\n",
       "    <tr style=\"text-align: right;\">\n",
       "      <th></th>\n",
       "      <th>Age</th>\n",
       "      <th>Protein1</th>\n",
       "      <th>Protein2</th>\n",
       "      <th>Protein3</th>\n",
       "      <th>Protein4</th>\n",
       "    </tr>\n",
       "  </thead>\n",
       "  <tbody>\n",
       "    <tr>\n",
       "      <th>count</th>\n",
       "      <td>334.000000</td>\n",
       "      <td>334.000000</td>\n",
       "      <td>334.000000</td>\n",
       "      <td>334.000000</td>\n",
       "      <td>334.000000</td>\n",
       "    </tr>\n",
       "    <tr>\n",
       "      <th>mean</th>\n",
       "      <td>58.886228</td>\n",
       "      <td>-0.029991</td>\n",
       "      <td>0.946896</td>\n",
       "      <td>-0.090204</td>\n",
       "      <td>0.009819</td>\n",
       "    </tr>\n",
       "    <tr>\n",
       "      <th>std</th>\n",
       "      <td>12.961212</td>\n",
       "      <td>0.563588</td>\n",
       "      <td>0.911637</td>\n",
       "      <td>0.585175</td>\n",
       "      <td>0.629055</td>\n",
       "    </tr>\n",
       "    <tr>\n",
       "      <th>min</th>\n",
       "      <td>29.000000</td>\n",
       "      <td>-2.340900</td>\n",
       "      <td>-0.978730</td>\n",
       "      <td>-1.627400</td>\n",
       "      <td>-2.025500</td>\n",
       "    </tr>\n",
       "    <tr>\n",
       "      <th>25%</th>\n",
       "      <td>49.000000</td>\n",
       "      <td>-0.358888</td>\n",
       "      <td>0.362173</td>\n",
       "      <td>-0.513748</td>\n",
       "      <td>-0.377090</td>\n",
       "    </tr>\n",
       "    <tr>\n",
       "      <th>50%</th>\n",
       "      <td>58.000000</td>\n",
       "      <td>0.006129</td>\n",
       "      <td>0.992805</td>\n",
       "      <td>-0.173180</td>\n",
       "      <td>0.041768</td>\n",
       "    </tr>\n",
       "    <tr>\n",
       "      <th>75%</th>\n",
       "      <td>68.000000</td>\n",
       "      <td>0.343598</td>\n",
       "      <td>1.627900</td>\n",
       "      <td>0.278353</td>\n",
       "      <td>0.425630</td>\n",
       "    </tr>\n",
       "    <tr>\n",
       "      <th>max</th>\n",
       "      <td>90.000000</td>\n",
       "      <td>1.593600</td>\n",
       "      <td>3.402200</td>\n",
       "      <td>2.193400</td>\n",
       "      <td>1.629900</td>\n",
       "    </tr>\n",
       "  </tbody>\n",
       "</table>\n",
       "</div>"
      ],
      "text/plain": [
       "              Age    Protein1    Protein2    Protein3    Protein4\n",
       "count  334.000000  334.000000  334.000000  334.000000  334.000000\n",
       "mean    58.886228   -0.029991    0.946896   -0.090204    0.009819\n",
       "std     12.961212    0.563588    0.911637    0.585175    0.629055\n",
       "min     29.000000   -2.340900   -0.978730   -1.627400   -2.025500\n",
       "25%     49.000000   -0.358888    0.362173   -0.513748   -0.377090\n",
       "50%     58.000000    0.006129    0.992805   -0.173180    0.041768\n",
       "75%     68.000000    0.343598    1.627900    0.278353    0.425630\n",
       "max     90.000000    1.593600    3.402200    2.193400    1.629900"
      ]
     },
     "execution_count": 5,
     "metadata": {},
     "output_type": "execute_result"
    }
   ],
   "source": [
    "df.describe()"
   ]
  },
  {
   "cell_type": "code",
   "execution_count": 6,
   "id": "37952145",
   "metadata": {},
   "outputs": [
    {
     "data": {
      "text/plain": [
       "Age                    0\n",
       "Gender                 0\n",
       "Protein1               0\n",
       "Protein2               0\n",
       "Protein3               0\n",
       "Protein4               0\n",
       "Tumour_Stage           0\n",
       "Histology              0\n",
       "ER status              0\n",
       "PR status              0\n",
       "HER2 status            0\n",
       "Surgery_type           0\n",
       "Date_of_Surgery        0\n",
       "Date_of_Last_Visit    17\n",
       "Patient_Status        13\n",
       "dtype: int64"
      ]
     },
     "execution_count": 6,
     "metadata": {},
     "output_type": "execute_result"
    }
   ],
   "source": [
    "df.isnull().sum()"
   ]
  },
  {
   "cell_type": "code",
   "execution_count": 7,
   "id": "063d8eac",
   "metadata": {},
   "outputs": [],
   "source": [
    "df=df.dropna()"
   ]
  },
  {
   "cell_type": "code",
   "execution_count": 8,
   "id": "5addaa41",
   "metadata": {},
   "outputs": [
    {
     "data": {
      "text/plain": [
       "Age                   0\n",
       "Gender                0\n",
       "Protein1              0\n",
       "Protein2              0\n",
       "Protein3              0\n",
       "Protein4              0\n",
       "Tumour_Stage          0\n",
       "Histology             0\n",
       "ER status             0\n",
       "PR status             0\n",
       "HER2 status           0\n",
       "Surgery_type          0\n",
       "Date_of_Surgery       0\n",
       "Date_of_Last_Visit    0\n",
       "Patient_Status        0\n",
       "dtype: int64"
      ]
     },
     "execution_count": 8,
     "metadata": {},
     "output_type": "execute_result"
    }
   ],
   "source": [
    "df.isnull().sum()"
   ]
  },
  {
   "cell_type": "code",
   "execution_count": 9,
   "id": "85d720b1",
   "metadata": {},
   "outputs": [
    {
     "data": {
      "text/plain": [
       "FEMALE    313\n",
       "MALE        4\n",
       "Name: Gender, dtype: int64"
      ]
     },
     "execution_count": 9,
     "metadata": {},
     "output_type": "execute_result"
    }
   ],
   "source": [
    "df.Gender.value_counts()"
   ]
  },
  {
   "cell_type": "code",
   "execution_count": 10,
   "id": "074c66dd",
   "metadata": {},
   "outputs": [
    {
     "data": {
      "image/png": "[encoded data removed]",
      "text/plain": [
       "<Figure size 640x480 with 1 Axes>"
      ]
     },
     "metadata": {},
     "output_type": "display_data"
    }
   ],
   "source": [
    "plt.style.use('dark_background')\n",
    "\n",
    "stage=df['Tumour_Stage'].value_counts()\n",
    "transactions=stage.index\n",
    "quantity=stage.values\n",
    "\n",
    "plt.pie(quantity,labels=transactions, autopct='%1.1f%%', shadow=True,\n",
    "       startangle=90, wedgeprops={'width':0.5},colors=['yellow','blue','green'])\n",
    "\n",
    "plt.title('Tumor Stages of Patients', weight='bold',color='red')\n",
    "\n",
    "plt.show()"
   ]
  },
  {
   "cell_type": "code",
   "execution_count": 11,
   "id": "0b7e1c38",
   "metadata": {},
   "outputs": [
    {
     "data": {
      "image/png": "[encoded data removed]",
      "text/plain": [
       "<Figure size 640x480 with 1 Axes>"
      ]
     },
     "metadata": {},
     "output_type": "display_data"
    }
   ],
   "source": [
    "plt.style.use('dark_background')\n",
    "\n",
    "histology=df['Histology'].value_counts()\n",
    "transactions=histology.index\n",
    "quantity=histology.values\n",
    "\n",
    "plt.pie(quantity,labels=transactions, autopct='%1.1f%%', shadow=True,\n",
    "       startangle=90, wedgeprops={'width':0.5},colors=['yellow','blue','green'])\n",
    "\n",
    "plt.title('Histology of Patients', weight='bold',color='red')\n",
    "\n",
    "plt.show()"
   ]
  },
  {
   "cell_type": "code",
   "execution_count": 12,
   "id": "60977b97",
   "metadata": {},
   "outputs": [
    {
     "name": "stdout",
     "output_type": "stream",
     "text": [
      "Positive    317\n",
      "Name: ER status, dtype: int64\n",
      "Positive    317\n",
      "Name: PR status, dtype: int64\n",
      "Negative    288\n",
      "Positive     29\n",
      "Name: HER2 status, dtype: int64\n"
     ]
    }
   ],
   "source": [
    "# ER Status\n",
    "\n",
    "print(df['ER status'].value_counts())\n",
    "\n",
    "#PR Status\n",
    "\n",
    "print(df['PR status'].value_counts())\n",
    "\n",
    "#HER2 Status\n",
    "\n",
    "print(df['HER2 status'].value_counts())"
   ]
  },
  {
   "cell_type": "code",
   "execution_count": 13,
   "id": "b573ec70",
   "metadata": {},
   "outputs": [
    {
     "data": {
      "image/png": "[encoded data removed]",
      "text/plain": [
       "<Figure size 640x480 with 1 Axes>"
      ]
     },
     "metadata": {},
     "output_type": "display_data"
    }
   ],
   "source": [
    "plt.style.use('dark_background')\n",
    "\n",
    "surgery_type=df['Surgery_type'].value_counts()\n",
    "transactions=surgery_type.index\n",
    "quantity=surgery_type.values\n",
    "\n",
    "plt.pie(quantity,labels=transactions, autopct='%1.1f%%', shadow=True,\n",
    "       startangle=90, wedgeprops={'width':0.5},colors=['yellow','blue','green'])\n",
    "\n",
    "plt.title('Type of surgery for Patients', weight='bold',color='red')\n",
    "\n",
    "plt.show()"
   ]
  },
  {
   "cell_type": "markdown",
   "id": "7f360611",
   "metadata": {},
   "source": [
    "# Data Encoding"
   ]
  },
  {
   "cell_type": "code",
   "execution_count": 28,
   "id": "1de3e7d9",
   "metadata": {},
   "outputs": [
    {
     "data": {
      "text/plain": [
       "Age                   0\n",
       "Gender                0\n",
       "Protein1              0\n",
       "Protein2              0\n",
       "Protein3              0\n",
       "Protein4              0\n",
       "Tumour_Stage          0\n",
       "Histology             0\n",
       "ER status             0\n",
       "PR status             0\n",
       "HER2 status           0\n",
       "Surgery_type          0\n",
       "Date_of_Surgery       0\n",
       "Date_of_Last_Visit    0\n",
       "Patient_Status        0\n",
       "dtype: int64"
      ]
     },
     "execution_count": 28,
     "metadata": {},
     "output_type": "execute_result"
    }
   ],
   "source": [
    "df.isnull().sum()"
   ]
  },
  {
   "cell_type": "code",
   "execution_count": 27,
   "id": "fb0ecc7a",
   "metadata": {},
   "outputs": [],
   "source": [
    "df=df.dropna()"
   ]
  },
  {
   "cell_type": "code",
   "execution_count": 14,
   "id": "56e10cb4",
   "metadata": {},
   "outputs": [
    {
     "name": "stdout",
     "output_type": "stream",
     "text": [
      "   Age  Gender  Protein1  Protein2  Protein3  Protein4  Tumour_Stage  \\\n",
      "0   42       1   0.95256   2.15000  0.007972 -0.048340             2   \n",
      "1   54       1   0.00000   1.38020 -0.498030 -0.507320             2   \n",
      "2   63       1  -0.52303   1.76400 -0.370190  0.010815             2   \n",
      "3   78       1  -0.87618   0.12943 -0.370380  0.132190             1   \n",
      "4   42       1   0.22611   1.74910 -0.543970 -0.390210             2   \n",
      "\n",
      "   Histology  ER status  PR status  HER2 status  Surgery_type Date_of_Surgery  \\\n",
      "0          1          1          1            2           1.0       20-May-18   \n",
      "1          1          1          1            2           1.0       26-Apr-18   \n",
      "2          1          1          1            2           3.0       24-Aug-18   \n",
      "3          1          1          1            2           1.0       16-Nov-18   \n",
      "4          1          1          1            1           3.0       12-Dec-18   \n",
      "\n",
      "  Date_of_Last_Visit Patient_Status  \n",
      "0          26-Aug-18          Alive  \n",
      "1          25-Jan-19           Dead  \n",
      "2          08-Apr-20          Alive  \n",
      "3          28-Jul-20          Alive  \n",
      "4          05-Jan-19          Alive  \n"
     ]
    }
   ],
   "source": [
    "df['Tumour_Stage']=df['Tumour_Stage'].map({'I':1,'II':2,'III':3})\n",
    "df['Histology']=df['Histology'].map({'Infiltrating Ductal Carcinoma':1,'Infiltrating Lobular Carcinoma':2,\n",
    "                                     'Mucinous Carcinoma':3})\n",
    "df['ER status']=df['ER status'].map({'Positive':1})\n",
    "df['PR status']=df['PR status'].map({'Positive':1})\n",
    "df['HER2 status']=df['HER2 status'].map({'Positive':1,'Negative':2})\n",
    "df['Gender']=df['Gender'].map({'MALE':0,'FEMALE':1})\n",
    "df['Surgery_type']=df['Surgery_type'].map({'Other':1,'Modified RadicalMastectomy':2,\n",
    "                                          'Lumpectomy':3,'Mastectomy':4})\n",
    "print(df.head())"
   ]
  },
  {
   "cell_type": "markdown",
   "id": "fe969f35",
   "metadata": {},
   "source": [
    "# Model Training"
   ]
  },
  {
   "cell_type": "code",
   "execution_count": 33,
   "id": "94a8b456",
   "metadata": {},
   "outputs": [],
   "source": [
    "X=np.array(df[['Age','Gender','Protein1','Protein2','Protein3','Protein4','Tumour_Stage',\n",
    "             'Histology','ER status','PR status','HER2 status','Surgery_type']])\n",
    "y=np.array(df[['Patient_Status']])"
   ]
  },
  {
   "cell_type": "code",
   "execution_count": 34,
   "id": "cf248bf8",
   "metadata": {},
   "outputs": [
    {
     "data": {
      "text/plain": [
       "array([[ 4.2000e+01,  1.0000e+00,  9.5256e-01, ...,  1.0000e+00,\n",
       "         2.0000e+00,  1.0000e+00],\n",
       "       [ 5.4000e+01,  1.0000e+00,  0.0000e+00, ...,  1.0000e+00,\n",
       "         2.0000e+00,  1.0000e+00],\n",
       "       [ 6.3000e+01,  1.0000e+00, -5.2303e-01, ...,  1.0000e+00,\n",
       "         2.0000e+00,  3.0000e+00],\n",
       "       ...,\n",
       "       [ 6.4000e+01,  1.0000e+00,  9.7580e-01, ...,  1.0000e+00,\n",
       "         2.0000e+00,  3.0000e+00],\n",
       "       [ 5.9000e+01,  1.0000e+00,  2.4598e-02, ...,  1.0000e+00,\n",
       "         1.0000e+00,  3.0000e+00],\n",
       "       [ 7.4000e+01,  1.0000e+00,  9.7251e-01, ...,  1.0000e+00,\n",
       "         2.0000e+00,  3.0000e+00]])"
      ]
     },
     "execution_count": 34,
     "metadata": {},
     "output_type": "execute_result"
    }
   ],
   "source": [
    "X"
   ]
  },
  {
   "cell_type": "code",
   "execution_count": 35,
   "id": "5385d3b4",
   "metadata": {},
   "outputs": [
    {
     "data": {
      "text/plain": [
       "array([['Alive'],\n",
       "       ['Dead'],\n",
       "       ['Alive'],\n",
       "       ['Alive'],\n",
       "       ['Alive'],\n",
       "       ['Alive'],\n",
       "       ['Alive'],\n",
       "       ['Alive'],\n",
       "       ['Alive'],\n",
       "       ['Alive'],\n",
       "       ['Alive'],\n",
       "       ['Alive'],\n",
       "       ['Alive'],\n",
       "       ['Alive'],\n",
       "       ['Dead'],\n",
       "       ['Dead'],\n",
       "       ['Dead'],\n",
       "       ['Dead'],\n",
       "       ['Dead'],\n",
       "       ['Alive'],\n",
       "       ['Dead'],\n",
       "       ['Alive'],\n",
       "       ['Alive'],\n",
       "       ['Dead'],\n",
       "       ['Alive'],\n",
       "       ['Alive'],\n",
       "       ['Alive'],\n",
       "       ['Alive'],\n",
       "       ['Alive'],\n",
       "       ['Alive'],\n",
       "       ['Alive'],\n",
       "       ['Alive'],\n",
       "       ['Alive'],\n",
       "       ['Alive'],\n",
       "       ['Alive'],\n",
       "       ['Alive'],\n",
       "       ['Alive'],\n",
       "       ['Alive'],\n",
       "       ['Dead'],\n",
       "       ['Alive'],\n",
       "       ['Alive'],\n",
       "       ['Alive'],\n",
       "       ['Alive'],\n",
       "       ['Alive'],\n",
       "       ['Alive'],\n",
       "       ['Alive'],\n",
       "       ['Alive'],\n",
       "       ['Alive'],\n",
       "       ['Alive'],\n",
       "       ['Dead'],\n",
       "       ['Dead'],\n",
       "       ['Alive'],\n",
       "       ['Alive'],\n",
       "       ['Alive'],\n",
       "       ['Alive'],\n",
       "       ['Alive'],\n",
       "       ['Dead'],\n",
       "       ['Alive'],\n",
       "       ['Dead'],\n",
       "       ['Alive'],\n",
       "       ['Alive'],\n",
       "       ['Dead'],\n",
       "       ['Alive'],\n",
       "       ['Alive'],\n",
       "       ['Alive'],\n",
       "       ['Alive'],\n",
       "       ['Alive'],\n",
       "       ['Alive'],\n",
       "       ['Alive'],\n",
       "       ['Alive'],\n",
       "       ['Dead'],\n",
       "       ['Alive'],\n",
       "       ['Dead'],\n",
       "       ['Alive'],\n",
       "       ['Alive'],\n",
       "       ['Alive'],\n",
       "       ['Alive'],\n",
       "       ['Alive'],\n",
       "       ['Alive'],\n",
       "       ['Alive'],\n",
       "       ['Alive'],\n",
       "       ['Alive'],\n",
       "       ['Alive'],\n",
       "       ['Alive'],\n",
       "       ['Alive'],\n",
       "       ['Alive'],\n",
       "       ['Dead'],\n",
       "       ['Alive'],\n",
       "       ['Alive'],\n",
       "       ['Dead'],\n",
       "       ['Dead'],\n",
       "       ['Alive'],\n",
       "       ['Alive'],\n",
       "       ['Alive'],\n",
       "       ['Alive'],\n",
       "       ['Alive'],\n",
       "       ['Alive'],\n",
       "       ['Alive'],\n",
       "       ['Dead'],\n",
       "       ['Alive'],\n",
       "       ['Alive'],\n",
       "       ['Alive'],\n",
       "       ['Dead'],\n",
       "       ['Alive'],\n",
       "       ['Dead'],\n",
       "       ['Dead'],\n",
       "       ['Alive'],\n",
       "       ['Alive'],\n",
       "       ['Alive'],\n",
       "       ['Alive'],\n",
       "       ['Alive'],\n",
       "       ['Alive'],\n",
       "       ['Dead'],\n",
       "       ['Alive'],\n",
       "       ['Alive'],\n",
       "       ['Alive'],\n",
       "       ['Alive'],\n",
       "       ['Alive'],\n",
       "       ['Alive'],\n",
       "       ['Alive'],\n",
       "       ['Alive'],\n",
       "       ['Alive'],\n",
       "       ['Alive'],\n",
       "       ['Dead'],\n",
       "       ['Alive'],\n",
       "       ['Dead'],\n",
       "       ['Alive'],\n",
       "       ['Alive'],\n",
       "       ['Alive'],\n",
       "       ['Dead'],\n",
       "       ['Alive'],\n",
       "       ['Alive'],\n",
       "       ['Alive'],\n",
       "       ['Alive'],\n",
       "       ['Dead'],\n",
       "       ['Alive'],\n",
       "       ['Alive'],\n",
       "       ['Alive'],\n",
       "       ['Alive'],\n",
       "       ['Alive'],\n",
       "       ['Alive'],\n",
       "       ['Alive'],\n",
       "       ['Alive'],\n",
       "       ['Dead'],\n",
       "       ['Alive'],\n",
       "       ['Dead'],\n",
       "       ['Alive'],\n",
       "       ['Alive'],\n",
       "       ['Alive'],\n",
       "       ['Alive'],\n",
       "       ['Alive'],\n",
       "       ['Alive'],\n",
       "       ['Alive'],\n",
       "       ['Dead'],\n",
       "       ['Dead'],\n",
       "       ['Alive'],\n",
       "       ['Alive'],\n",
       "       ['Alive'],\n",
       "       ['Alive'],\n",
       "       ['Dead'],\n",
       "       ['Alive'],\n",
       "       ['Alive'],\n",
       "       ['Alive']], dtype=object)"
      ]
     },
     "execution_count": 35,
     "metadata": {},
     "output_type": "execute_result"
    }
   ],
   "source": [
    "y"
   ]
  },
  {
   "cell_type": "code",
   "execution_count": 36,
   "id": "2ce10392",
   "metadata": {},
   "outputs": [],
   "source": [
    "from sklearn.model_selection import train_test_split\n",
    "from sklearn.svm import SVC"
   ]
  },
  {
   "cell_type": "code",
   "execution_count": 41,
   "id": "125cf9b0",
   "metadata": {},
   "outputs": [],
   "source": [
    "X_train,X_test,y_train,y_test=train_test_split(X,y,test_size=0.10,random_state=42)"
   ]
  },
  {
   "cell_type": "code",
   "execution_count": 38,
   "id": "f76d9e3f",
   "metadata": {},
   "outputs": [],
   "source": [
    "model=SVC()"
   ]
  },
  {
   "cell_type": "code",
   "execution_count": 39,
   "id": "20d432df",
   "metadata": {},
   "outputs": [
    {
     "data": {
      "text/html": [
       "<style>#sk-container-id-1 {color: black;background-color: white;}#sk-container-id-1 pre{padding: 0;}#sk-container-id-1 div.sk-toggleable {background-color: white;}#sk-container-id-1 label.sk-toggleable__label {cursor: pointer;display: block;width: 100%;margin-bottom: 0;padding: 0.3em;box-sizing: border-box;text-align: center;}#sk-container-id-1 label.sk-toggleable__label-arrow:before {content: \"▸\";float: left;margin-right: 0.25em;color: #696969;}#sk-container-id-1 label.sk-toggleable__label-arrow:hover:before {color: black;}#sk-container-id-1 div.sk-estimator:hover label.sk-toggleable__label-arrow:before {color: black;}#sk-container-id-1 div.sk-toggleable__content {max-height: 0;max-width: 0;overflow: hidden;text-align: left;background-color: #f0f8ff;}#sk-container-id-1 div.sk-toggleable__content pre {margin: 0.2em;color: black;border-radius: 0.25em;background-color: #f0f8ff;}#sk-container-id-1 input.sk-toggleable__control:checked~div.sk-toggleable__content {max-height: 200px;max-width: 100%;overflow: auto;}#sk-container-id-1 input.sk-toggleable__control:checked~label.sk-toggleable__label-arrow:before {content: \"▾\";}#sk-container-id-1 div.sk-estimator input.sk-toggleable__control:checked~label.sk-toggleable__label {background-color: #d4ebff;}#sk-container-id-1 div.sk-label input.sk-toggleable__control:checked~label.sk-toggleable__label {background-color: #d4ebff;}#sk-container-id-1 input.sk-hidden--visually {border: 0;clip: rect(1px 1px 1px 1px);clip: rect(1px, 1px, 1px, 1px);height: 1px;margin: -1px;overflow: hidden;padding: 0;position: absolute;width: 1px;}#sk-container-id-1 div.sk-estimator {font-family: monospace;background-color: #f0f8ff;border: 1px dotted black;border-radius: 0.25em;box-sizing: border-box;margin-bottom: 0.5em;}#sk-container-id-1 div.sk-estimator:hover {background-color: #d4ebff;}#sk-container-id-1 div.sk-parallel-item::after {content: \"\";width: 100%;border-bottom: 1px solid gray;flex-grow: 1;}#sk-container-id-1 div.sk-label:hover label.sk-toggleable__label {background-color: #d4ebff;}#sk-container-id-1 div.sk-serial::before {content: \"\";position: absolute;border-left: 1px solid gray;box-sizing: border-box;top: 0;bottom: 0;left: 50%;z-index: 0;}#sk-container-id-1 div.sk-serial {display: flex;flex-direction: column;align-items: center;background-color: white;padding-right: 0.2em;padding-left: 0.2em;position: relative;}#sk-container-id-1 div.sk-item {position: relative;z-index: 1;}#sk-container-id-1 div.sk-parallel {display: flex;align-items: stretch;justify-content: center;background-color: white;position: relative;}#sk-container-id-1 div.sk-item::before, #sk-container-id-1 div.sk-parallel-item::before {content: \"\";position: absolute;border-left: 1px solid gray;box-sizing: border-box;top: 0;bottom: 0;left: 50%;z-index: -1;}#sk-container-id-1 div.sk-parallel-item {display: flex;flex-direction: column;z-index: 1;position: relative;background-color: white;}#sk-container-id-1 div.sk-parallel-item:first-child::after {align-self: flex-end;width: 50%;}#sk-container-id-1 div.sk-parallel-item:last-child::after {align-self: flex-start;width: 50%;}#sk-container-id-1 div.sk-parallel-item:only-child::after {width: 0;}#sk-container-id-1 div.sk-dashed-wrapped {border: 1px dashed gray;margin: 0 0.4em 0.5em 0.4em;box-sizing: border-box;padding-bottom: 0.4em;background-color: white;}#sk-container-id-1 div.sk-label label {font-family: monospace;font-weight: bold;display: inline-block;line-height: 1.2em;}#sk-container-id-1 div.sk-label-container {text-align: center;}#sk-container-id-1 div.sk-container {/* jupyter's `normalize.less` sets `[hidden] { display: none; }` but bootstrap.min.css set `[hidden] { display: none !important; }` so we also need the `!important` here to be able to override the default hidden behavior on the sphinx rendered scikit-learn.org. See: https://github.com/scikit-learn/scikit-learn/issues/21755 */display: inline-block !important;position: relative;}#sk-container-id-1 div.sk-text-repr-fallback {display: none;}</style><div id=\"sk-container-id-1\" class=\"sk-top-container\"><div class=\"sk-text-repr-fallback\"><pre>SVC()</pre><b>In a Jupyter environment, please rerun this cell to show the HTML representation or trust the notebook. <br />On GitHub, the HTML representation is unable to render, please try loading this page with nbviewer.org.</b></div><div class=\"sk-container\" hidden><div class=\"sk-item\"><div class=\"sk-estimator sk-toggleable\"><input class=\"sk-toggleable__control sk-hidden--visually\" id=\"sk-estimator-id-1\" type=\"checkbox\" checked><label for=\"sk-estimator-id-1\" class=\"sk-toggleable__label sk-toggleable__label-arrow\">SVC</label><div class=\"sk-toggleable__content\"><pre>SVC()</pre></div></div></div></div></div>"
      ],
      "text/plain": [
       "SVC()"
      ]
     },
     "execution_count": 39,
     "metadata": {},
     "output_type": "execute_result"
    }
   ],
   "source": [
    "model.fit(X_train,y_train)"
   ]
  },
  {
   "cell_type": "code",
   "execution_count": 42,
   "id": "8efbf79f",
   "metadata": {},
   "outputs": [
    {
     "data": {
      "text/plain": [
       "array(['Alive', 'Alive', 'Alive', 'Alive', 'Alive', 'Alive', 'Alive',\n",
       "       'Alive', 'Alive', 'Alive', 'Alive', 'Alive', 'Alive', 'Alive',\n",
       "       'Alive', 'Alive', 'Alive'], dtype=object)"
      ]
     },
     "execution_count": 42,
     "metadata": {},
     "output_type": "execute_result"
    }
   ],
   "source": [
    "y_pred=model.predict(X_test)\n",
    "y_pred"
   ]
  },
  {
   "cell_type": "markdown",
   "id": "58a3274a",
   "metadata": {},
   "source": [
    "# Model Accuracy"
   ]
  },
  {
   "cell_type": "code",
   "execution_count": 46,
   "id": "34acee09",
   "metadata": {},
   "outputs": [
    {
     "data": {
      "text/plain": [
       "array([[15,  0],\n",
       "       [ 2,  0]], dtype=int64)"
      ]
     },
     "execution_count": 46,
     "metadata": {},
     "output_type": "execute_result"
    }
   ],
   "source": [
    "from sklearn.metrics import confusion_matrix\n",
    "cm=confusion_matrix(y_test,y_pred)\n",
    "cm"
   ]
  },
  {
   "cell_type": "code",
   "execution_count": 47,
   "id": "16ee966a",
   "metadata": {},
   "outputs": [],
   "source": [
    "tp=cm[0][0]\n",
    "fp=cm[0][1]\n",
    "fn=cm[1][0]\n",
    "tn=cm[1][1]"
   ]
  },
  {
   "cell_type": "code",
   "execution_count": 48,
   "id": "b4d70871",
   "metadata": {},
   "outputs": [
    {
     "data": {
      "text/plain": [
       "0.8823529411764706"
      ]
     },
     "execution_count": 48,
     "metadata": {},
     "output_type": "execute_result"
    }
   ],
   "source": [
    "acc=(tp+tn)/(tp+fp+fn+tn)\n",
    "acc"
   ]
  },
  {
   "cell_type": "code",
   "execution_count": 49,
   "id": "21aecd4f",
   "metadata": {},
   "outputs": [
    {
     "data": {
      "text/plain": [
       "1.0"
      ]
     },
     "execution_count": 49,
     "metadata": {},
     "output_type": "execute_result"
    }
   ],
   "source": [
    "precision=tp/(tp+fp)\n",
    "precision"
   ]
  },
  {
   "cell_type": "code",
   "execution_count": 50,
   "id": "059eb479",
   "metadata": {},
   "outputs": [
    {
     "data": {
      "text/plain": [
       "0.8823529411764706"
      ]
     },
     "execution_count": 50,
     "metadata": {},
     "output_type": "execute_result"
    }
   ],
   "source": [
    "recall=tp/(tp+fn)\n",
    "recall"
   ]
  },
  {
   "cell_type": "code",
   "execution_count": 51,
   "id": "2d65838a",
   "metadata": {},
   "outputs": [
    {
     "data": {
      "text/plain": [
       "0.9375"
      ]
     },
     "execution_count": 51,
     "metadata": {},
     "output_type": "execute_result"
    }
   ],
   "source": [
    "f1score=2*(recall*precision)/(recall+precision)\n",
    "f1score"
   ]
  }
 ],
 "metadata": {
  "kernelspec": {
   "display_name": "Python 3 (ipykernel)",
   "language": "python",
   "name": "python3"
  },
  "language_info": {
   "codemirror_mode": {
    "name": "ipython",
    "version": 3
   },
   "file_extension": ".py",
   "mimetype": "text/x-python",
   "name": "python",
   "nbconvert_exporter": "python",
   "pygments_lexer": "ipython3",
   "version": "3.9.13"
  }
 },
 "nbformat": 4,
 "nbformat_minor": 5
}
