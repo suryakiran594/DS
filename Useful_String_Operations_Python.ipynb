{
 "cells": [
  {
   "cell_type": "markdown",
   "id": "6fb7c69e",
   "metadata": {},
   "source": [
    "# Useful String Methods in Python"
   ]
  },
  {
   "cell_type": "markdown",
   "id": "746515b6",
   "metadata": {},
   "source": [
    "A set of Python string methods with explanations and code examples\n"
   ]
  },
  {
   "cell_type": "markdown",
   "id": "e4456b60",
   "metadata": {},
   "source": [
    "1. len(): returns the length of the string"
   ]
  },
  {
   "cell_type": "code",
   "execution_count": 1,
   "id": "e4a36a17",
   "metadata": {},
   "outputs": [
    {
     "name": "stdout",
     "output_type": "stream",
     "text": [
      "11\n"
     ]
    }
   ],
   "source": [
    "text='Hello World'\n",
    "print(len(text))"
   ]
  },
  {
   "cell_type": "markdown",
   "id": "cc4222b0",
   "metadata": {},
   "source": [
    "2.lower(): converts all characters in the string to lowercase"
   ]
  },
  {
   "cell_type": "code",
   "execution_count": 2,
   "id": "0667ee22",
   "metadata": {},
   "outputs": [
    {
     "name": "stdout",
     "output_type": "stream",
     "text": [
      "hello world\n"
     ]
    }
   ],
   "source": [
    "text='Hello World'\n",
    "print(text.lower())"
   ]
  },
  {
   "cell_type": "markdown",
   "id": "96b9f285",
   "metadata": {},
   "source": [
    "3.upper(): converts all characters in the string to uppercase"
   ]
  },
  {
   "cell_type": "code",
   "execution_count": 3,
   "id": "40839c29",
   "metadata": {},
   "outputs": [
    {
     "name": "stdout",
     "output_type": "stream",
     "text": [
      "HELLO WORLD\n"
     ]
    }
   ],
   "source": [
    "text='Hello World'\n",
    "print(text.upper())"
   ]
  },
  {
   "cell_type": "markdown",
   "id": "df5d9705",
   "metadata": {},
   "source": [
    "4.strip(): removes any leading and trailing whitespace characters from the string"
   ]
  },
  {
   "cell_type": "code",
   "execution_count": 4,
   "id": "766738fc",
   "metadata": {},
   "outputs": [
    {
     "name": "stdout",
     "output_type": "stream",
     "text": [
      "Hello World\n"
     ]
    }
   ],
   "source": [
    "text='  Hello World  '\n",
    "print(text.strip())"
   ]
  },
  {
   "cell_type": "markdown",
   "id": "47c6f68a",
   "metadata": {},
   "source": [
    "5.replace(): replaces a specified substring with another specified substring in the string"
   ]
  },
  {
   "cell_type": "code",
   "execution_count": 5,
   "id": "f4944812",
   "metadata": {},
   "outputs": [
    {
     "name": "stdout",
     "output_type": "stream",
     "text": [
      "Hello Python\n"
     ]
    }
   ],
   "source": [
    "text='Hello World'\n",
    "print(text.replace('World','Python'))"
   ]
  },
  {
   "cell_type": "markdown",
   "id": "61feaa26",
   "metadata": {},
   "source": [
    "6. split(): splits the string into a list of substrings based on a specified delimiter character"
   ]
  },
  {
   "cell_type": "code",
   "execution_count": 6,
   "id": "48ca8f1d",
   "metadata": {},
   "outputs": [
    {
     "name": "stdout",
     "output_type": "stream",
     "text": [
      "['Hello', 'World']\n"
     ]
    }
   ],
   "source": [
    "text='Hello World'\n",
    "print(text.split())"
   ]
  },
  {
   "cell_type": "markdown",
   "id": "bd69d664",
   "metadata": {},
   "source": [
    "7. join(): joins a list of substrings into a single string using a specified delimiter character"
   ]
  },
  {
   "cell_type": "code",
   "execution_count": 7,
   "id": "a2348bcc",
   "metadata": {},
   "outputs": [
    {
     "name": "stdout",
     "output_type": "stream",
     "text": [
      "HelloWorld\n"
     ]
    }
   ],
   "source": [
    "words=['Hello', 'World']\n",
    "delimiter=''\n",
    "print(delimiter.join(words))"
   ]
  },
  {
   "cell_type": "markdown",
   "id": "9b3ae85d",
   "metadata": {},
   "source": [
    "OR"
   ]
  },
  {
   "cell_type": "markdown",
   "id": "1e40a97e",
   "metadata": {},
   "source": [
    "join(): This function joins a list of strings into a single string using a specified separator"
   ]
  },
  {
   "cell_type": "code",
   "execution_count": 8,
   "id": "5d97f548",
   "metadata": {},
   "outputs": [
    {
     "name": "stdout",
     "output_type": "stream",
     "text": [
      "Hello,World!\n"
     ]
    }
   ],
   "source": [
    "words=['Hello','World!']\n",
    "string=','.join(words)\n",
    "print(string)"
   ]
  },
  {
   "cell_type": "markdown",
   "id": "40ef476a",
   "metadata": {},
   "source": [
    "9.count():counts the number of occurrences of a substring in the given string"
   ]
  },
  {
   "cell_type": "code",
   "execution_count": 9,
   "id": "fca29592",
   "metadata": {},
   "outputs": [
    {
     "name": "stdout",
     "output_type": "stream",
     "text": [
      "3\n"
     ]
    }
   ],
   "source": [
    "s='Hello, World'\n",
    "print(s.count('l'))"
   ]
  },
  {
   "cell_type": "markdown",
   "id": "3669b3cb",
   "metadata": {},
   "source": [
    "10. startswith(): this function returns True if a string starts with a specified prefix, otherwise it returns FAlse\n",
    "    "
   ]
  },
  {
   "cell_type": "code",
   "execution_count": 11,
   "id": "067e51c1",
   "metadata": {},
   "outputs": [
    {
     "name": "stdout",
     "output_type": "stream",
     "text": [
      "True\n",
      "False\n"
     ]
    }
   ],
   "source": [
    "string='Hello,World!'\n",
    "print(string.startswith('Hello'))\n",
    "print(string.startswith('World'))"
   ]
  },
  {
   "cell_type": "markdown",
   "id": "f3520199",
   "metadata": {},
   "source": [
    "11. endswith(): this function returns True if a string ends with a specified prefix, otherwise it returns False"
   ]
  },
  {
   "cell_type": "code",
   "execution_count": 13,
   "id": "c0542816",
   "metadata": {},
   "outputs": [
    {
     "name": "stdout",
     "output_type": "stream",
     "text": [
      "True\n",
      "False\n"
     ]
    }
   ],
   "source": [
    "string='Hellow, World'\n",
    "print(string.endswith('World'))\n",
    "print(string.endswith('Hello'))"
   ]
  },
  {
   "cell_type": "markdown",
   "id": "21df449f",
   "metadata": {},
   "source": [
    "12. str.isalnum(): returns True if all characters in the string are alphanumeric(i.e, letters and/or digits) False otherwise.\n",
    "    "
   ]
  },
  {
   "cell_type": "code",
   "execution_count": 14,
   "id": "4265bacc",
   "metadata": {},
   "outputs": [
    {
     "name": "stdout",
     "output_type": "stream",
     "text": [
      "True\n",
      "False\n"
     ]
    }
   ],
   "source": [
    "string1='Hellow123'\n",
    "string2='Hello,world!'\n",
    "print(string1.isalnum())\n",
    "print(string2.isalnum())"
   ]
  },
  {
   "cell_type": "markdown",
   "id": "909b6f3d",
   "metadata": {},
   "source": [
    "13. rfind(): this method searches the string for a specified substring and return the highest index of its last occurrence.\n",
    "If the substring is not found, it returns -1"
   ]
  },
  {
   "cell_type": "code",
   "execution_count": 16,
   "id": "040d0ff4",
   "metadata": {},
   "outputs": [
    {
     "name": "stdout",
     "output_type": "stream",
     "text": [
      "7\n"
     ]
    }
   ],
   "source": [
    "my_string='Hello World!'\n",
    "index=my_string.rfind('o')\n",
    "print(index)"
   ]
  },
  {
   "cell_type": "code",
   "execution_count": 17,
   "id": "06204c52",
   "metadata": {},
   "outputs": [
    {
     "name": "stdout",
     "output_type": "stream",
     "text": [
      "-1\n"
     ]
    }
   ],
   "source": [
    "my_string='Hello World!'\n",
    "index=my_string.rfind('w')\n",
    "print(index)"
   ]
  },
  {
   "cell_type": "markdown",
   "id": "3db52b41",
   "metadata": {},
   "source": [
    "14. isdigit(): this method returns True if all characters in the string are digits(0-9).Otherwise, it returns FAlse."
   ]
  },
  {
   "cell_type": "code",
   "execution_count": 18,
   "id": "46bbc432",
   "metadata": {},
   "outputs": [
    {
     "name": "stdout",
     "output_type": "stream",
     "text": [
      "True\n"
     ]
    }
   ],
   "source": [
    "my_string='1234'\n",
    "print(my_string.isdigit())"
   ]
  },
  {
   "cell_type": "markdown",
   "id": "5138ac3a",
   "metadata": {},
   "source": [
    "15. format(): this method formats a string by replacing place holders with values. the placeholders are enclosed in curly braces{}"
   ]
  },
  {
   "cell_type": "code",
   "execution_count": 19,
   "id": "ef2bde73",
   "metadata": {},
   "outputs": [
    {
     "name": "stdout",
     "output_type": "stream",
     "text": [
      "My name is Surya Kiran and i am 35 years old.\n"
     ]
    }
   ],
   "source": [
    "my_name='Surya Kiran'\n",
    "my_age=35\n",
    "print('My name is {} and i am {} years old.'.format(my_name,my_age))"
   ]
  },
  {
   "cell_type": "markdown",
   "id": "235b3817",
   "metadata": {},
   "source": [
    "16. capitalize(): this method returns a copy of the string with the first character capitalized and the rest in lowercase"
   ]
  },
  {
   "cell_type": "code",
   "execution_count": 20,
   "id": "33491d37",
   "metadata": {},
   "outputs": [
    {
     "name": "stdout",
     "output_type": "stream",
     "text": [
      "Hello world!\n"
     ]
    }
   ],
   "source": [
    "my_string='hello world!'\n",
    "print(my_string.capitalize())"
   ]
  },
  {
   "cell_type": "markdown",
   "id": "30607aa6",
   "metadata": {},
   "source": [
    "17. title(): this method returns a copy of the string with the first character of each word capitalized and the rest in lowercase"
   ]
  },
  {
   "cell_type": "code",
   "execution_count": 21,
   "id": "f3608cb8",
   "metadata": {},
   "outputs": [
    {
     "name": "stdout",
     "output_type": "stream",
     "text": [
      "Hello, World!\n"
     ]
    }
   ],
   "source": [
    "my_string='hello, world!'\n",
    "print(my_string.title())"
   ]
  },
  {
   "cell_type": "markdown",
   "id": "93efad23",
   "metadata": {},
   "source": [
    "18. swapcase(): this method returns a copy of the string with the case of each character swapped(lowercase becomes uppercase and vice versa)"
   ]
  },
  {
   "cell_type": "code",
   "execution_count": 22,
   "id": "ed0132ee",
   "metadata": {},
   "outputs": [
    {
     "name": "stdout",
     "output_type": "stream",
     "text": [
      "hELLO wORLD\n"
     ]
    }
   ],
   "source": [
    "my_string='Hello World'\n",
    "print(my_string.swapcase())"
   ]
  },
  {
   "cell_type": "markdown",
   "id": "30e0aadc",
   "metadata": {},
   "source": [
    "19. isupper(): this method returns true if all characters in the string are uppercase letters. it returns False otherwise"
   ]
  },
  {
   "cell_type": "code",
   "execution_count": 23,
   "id": "1b5ebb63",
   "metadata": {},
   "outputs": [
    {
     "name": "stdout",
     "output_type": "stream",
     "text": [
      "True\n"
     ]
    }
   ],
   "source": [
    "my_string='HELLO, WORLD'\n",
    "print(my_string.isupper())"
   ]
  },
  {
   "cell_type": "markdown",
   "id": "010086ff",
   "metadata": {},
   "source": [
    "20. islower(): this method returns True if all characters in the string are lowercase letters. Otherwise, it returns False"
   ]
  },
  {
   "cell_type": "code",
   "execution_count": 24,
   "id": "08b165c4",
   "metadata": {},
   "outputs": [
    {
     "name": "stdout",
     "output_type": "stream",
     "text": [
      "True\n"
     ]
    }
   ],
   "source": [
    "my_string='hello, world'\n",
    "print(my_string.islower())"
   ]
  },
  {
   "cell_type": "markdown",
   "id": "279810bf",
   "metadata": {},
   "source": [
    "21. isspace(): this method returns True if all characters in the string are whitespace (spaces,tabs,newlines, etc), otherwise, it returns False"
   ]
  },
  {
   "cell_type": "code",
   "execution_count": 25,
   "id": "e1279fc5",
   "metadata": {},
   "outputs": [
    {
     "name": "stdout",
     "output_type": "stream",
     "text": [
      "True\n"
     ]
    }
   ],
   "source": [
    "my_string=' \\t\\n'\n",
    "print(my_string.isspace())"
   ]
  },
  {
   "cell_type": "markdown",
   "id": "9387c25a",
   "metadata": {},
   "source": [
    "22. center(): this method returns a centered string of a specified width by adding spaces on both sides of the string."
   ]
  },
  {
   "cell_type": "code",
   "execution_count": 27,
   "id": "c95f604c",
   "metadata": {},
   "outputs": [
    {
     "name": "stdout",
     "output_type": "stream",
     "text": [
      "  Hello   \n"
     ]
    }
   ],
   "source": [
    "my_string='Hello'\n",
    "print(my_string.center(10))"
   ]
  },
  {
   "cell_type": "code",
   "execution_count": null,
   "id": "170c6e7f",
   "metadata": {},
   "outputs": [],
   "source": []
  }
 ],
 "metadata": {
  "kernelspec": {
   "display_name": "Python 3 (ipykernel)",
   "language": "python",
   "name": "python3"
  },
  "language_info": {
   "codemirror_mode": {
    "name": "ipython",
    "version": 3
   },
   "file_extension": ".py",
   "mimetype": "text/x-python",
   "name": "python",
   "nbconvert_exporter": "python",
   "pygments_lexer": "ipython3",
   "version": "3.9.13"
  }
 },
 "nbformat": 4,
 "nbformat_minor": 5
}
