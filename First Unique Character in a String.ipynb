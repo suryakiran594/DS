{
 "cells": [
  {
   "cell_type": "markdown",
   "id": "62eab30b",
   "metadata": {},
   "source": [
    "Question 2:-\n",
    "given a string s, find the first non repeating character in it an return its index. if it does not exist return-1\n",
    "\n"
   ]
  },
  {
   "cell_type": "markdown",
   "id": "aa5b3c43",
   "metadata": {},
   "source": [
    "Algorithm:\n",
    "    1.Initialize an empty dictionary char_freq to store the frequency of each character.\n",
    "\n",
    "    2. Iterate through the string s and count the frequency of each character:\n",
    "\n",
    "       For each character c in s, check if c exists as a key in char_freq.\n",
    "       If it exists, increment the frequency by 1.\n",
    "       If it doesn't exist, add c as a key to char_freq with a frequency of 1.\n",
    "    3. Iterate through the string s again:\n",
    "\n",
    "       For each character c in s, check if its frequency in char_freq is 1.\n",
    "       If it is 1, return the index of c in s.\n",
    "       If it is not 1, continue to the next character.\n",
    "    4. If no non-repeating character is found in the loop, return -1 to indicate that it doesn't exist.\n",
    "\n"
   ]
  },
  {
   "cell_type": "code",
   "execution_count": 1,
   "id": "171d68dc",
   "metadata": {},
   "outputs": [
    {
     "name": "stdout",
     "output_type": "stream",
     "text": [
      "0\n"
     ]
    }
   ],
   "source": [
    "def first_unique_char(s):  \n",
    "    char_freq = {}  # Dictionary to store character frequencies\n",
    "\n",
    "    # Count the frequency of each character\n",
    "    for char in s:\n",
    "        char_freq[char] = char_freq.get(char, 0) + 1\n",
    "\n",
    "    # Find the first character with a frequency of 1\n",
    "    for i in range(len(s)):\n",
    "        if char_freq[s[i]] == 1:\n",
    "            return i\n",
    "\n",
    "    return -1  # Return -1 if no non-repeating character is found\n",
    "\n",
    "# Example usage\n",
    "s = \"leetcode\"\n",
    "print(first_unique_char(s))  # Output: 0 (character 'l' is the first non-repeating character at index 0)\n"
   ]
  },
  {
   "cell_type": "code",
   "execution_count": 3,
   "id": "c6a841cf",
   "metadata": {},
   "outputs": [
    {
     "data": {
      "text/plain": [
       "2"
      ]
     },
     "execution_count": 3,
     "metadata": {},
     "output_type": "execute_result"
    }
   ],
   "source": [
    "first_unique_char('loveleetcode')"
   ]
  },
  {
   "cell_type": "code",
   "execution_count": 4,
   "id": "b30df544",
   "metadata": {},
   "outputs": [
    {
     "data": {
      "text/plain": [
       "-1"
      ]
     },
     "execution_count": 4,
     "metadata": {},
     "output_type": "execute_result"
    }
   ],
   "source": [
    "first_unique_char('aabb')"
   ]
  },
  {
   "cell_type": "code",
   "execution_count": null,
   "id": "874c478d",
   "metadata": {},
   "outputs": [],
   "source": []
  }
 ],
 "metadata": {
  "kernelspec": {
   "display_name": "Python 3 (ipykernel)",
   "language": "python",
   "name": "python3"
  },
  "language_info": {
   "codemirror_mode": {
    "name": "ipython",
    "version": 3
   },
   "file_extension": ".py",
   "mimetype": "text/x-python",
   "name": "python",
   "nbconvert_exporter": "python",
   "pygments_lexer": "ipython3",
   "version": "3.9.13"
  }
 },
 "nbformat": 4,
 "nbformat_minor": 5
}
