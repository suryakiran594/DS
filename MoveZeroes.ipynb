{
 "cells": [
  {
   "cell_type": "markdown",
   "id": "edd26499",
   "metadata": {},
   "source": [
    "Question 1: given an integer array nums, move all 0`s to the end of it while maintaining the relative order of the non zero elements. that you must do this in-place without making a copy of the array\n",
    "\n"
   ]
  },
  {
   "cell_type": "markdown",
   "id": "f04231c3",
   "metadata": {},
   "source": [
    "Algorithm:\n",
    "    1.Initialize the variable left to 0. this variable is used to keep track of the  position where the next non zero element\n",
    "    should be place\n",
    "    2.iterate through a oop an a pointer i\n",
    "       if the element at nums[i] is non-zero, move it to the left side of the array by assigning it to nums[left]\n",
    "        increment left by 1\n",
    "    3. After the loop, all non-zero elements will be placed at the beginning of the array, and the variable left will be pointing to the next position.\n",
    "\n",
    "    4. Iterate from left to the end of the array:\n",
    "\n",
    "        Assign 0 to nums[i] for each position.\n"
   ]
  },
  {
   "cell_type": "code",
   "execution_count": 1,
   "id": "edba266d",
   "metadata": {},
   "outputs": [
    {
     "name": "stdout",
     "output_type": "stream",
     "text": [
      "[1, 3, 12, 0, 0]\n"
     ]
    }
   ],
   "source": [
    "def move_zeros(nums):\n",
    "    n = len(nums)\n",
    "    left = 0  # Pointer to track the non-zero elements\n",
    "    \n",
    "    # Move non-zero elements to the left\n",
    "    for i in range(n):\n",
    "        if nums[i] != 0:\n",
    "            nums[left] = nums[i]\n",
    "            left += 1\n",
    "    \n",
    "    # Fill the remaining positions with zeros\n",
    "    for i in range(left, n):\n",
    "        nums[i] = 0\n",
    "\n",
    "# Example usage\n",
    "nums = [0, 1, 0, 3, 12]\n",
    "move_zeros(nums)\n",
    "print(nums)  # Output: [1, 3, 12, 0, 0]\n"
   ]
  },
  {
   "cell_type": "code",
   "execution_count": null,
   "id": "c1993d82",
   "metadata": {},
   "outputs": [],
   "source": []
  }
 ],
 "metadata": {
  "kernelspec": {
   "display_name": "Python 3 (ipykernel)",
   "language": "python",
   "name": "python3"
  },
  "language_info": {
   "codemirror_mode": {
    "name": "ipython",
    "version": 3
   },
   "file_extension": ".py",
   "mimetype": "text/x-python",
   "name": "python",
   "nbconvert_exporter": "python",
   "pygments_lexer": "ipython3",
   "version": "3.9.13"
  }
 },
 "nbformat": 4,
 "nbformat_minor": 5
}
