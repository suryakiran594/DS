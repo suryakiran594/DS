{
 "cells": [
  {
   "cell_type": "markdown",
   "id": "75dbea32",
   "metadata": {},
   "source": [
    " STATISTICS FOR DATA SCIENCE"
   ]
  },
  {
   "cell_type": "markdown",
   "id": "f5f34aa2",
   "metadata": {},
   "source": [
    "Data Source- UCI`s Machine Learning Repository"
   ]
  },
  {
   "cell_type": "code",
   "execution_count": 56,
   "id": "8a05f196",
   "metadata": {},
   "outputs": [],
   "source": [
    "file=open('adult.data','r')\n",
    "def char_int(a):\n",
    "    if a.isdigit(): return int(a)\n",
    "    else: return 0\n",
    "    \n",
    "data=[]\n",
    "for line in file:\n",
    "    data1=line.split(', ')\n",
    "    if len(data1)==15:\n",
    "        data.append([char_int(data1 [0]),data1 [1],char_int(data1 [2]),data1 [3],\n",
    "                    char_int(data1 [4]),data1 [5],data1 [6],data1 [7],\n",
    "                    data1 [8],data1 [9],char_int(data1 [10]),char_int(data1 [11]),\n",
    "                    char_int(data1 [12]),data1 [13],data1 [14]\n",
    "                    ])"
   ]
  },
  {
   "cell_type": "code",
   "execution_count": 57,
   "id": "29022435",
   "metadata": {},
   "outputs": [
    {
     "name": "stdout",
     "output_type": "stream",
     "text": [
      "[[50, 'Self-emp-not-inc', 83311, 'Bachelors', 13, 'Married-civ-spouse', 'Exec-managerial', 'Husband', 'White', 'Male', 0, 0, 13, 'United-States', '<=50K\\n']]\n"
     ]
    }
   ],
   "source": [
    "print (data[1:2])"
   ]
  },
  {
   "cell_type": "code",
   "execution_count": 58,
   "id": "a682a1eb",
   "metadata": {},
   "outputs": [],
   "source": [
    "import pandas as pd"
   ]
  },
  {
   "cell_type": "code",
   "execution_count": 59,
   "id": "d28a95a5",
   "metadata": {},
   "outputs": [],
   "source": [
    "df=pd.DataFrame(data)\n",
    "df.columns=[\n",
    "    'age','type_employer','fnlwgt',\n",
    "    'education','education_num','marital',\n",
    "    'occupation','relationship','race',\n",
    "    'sex','captial_gain','capital_loss',\n",
    "    'hr_per_week','country','income'\n",
    "    \n",
    "]"
   ]
  },
  {
   "cell_type": "code",
   "execution_count": 60,
   "id": "fb475205",
   "metadata": {},
   "outputs": [
    {
     "data": {
      "text/plain": [
       "(32561, 15)"
      ]
     },
     "execution_count": 60,
     "metadata": {},
     "output_type": "execute_result"
    }
   ],
   "source": [
    "df.shape         # Shape gives exact number of data samples (in rows) & features (in columns)"
   ]
  },
  {
   "cell_type": "code",
   "execution_count": 61,
   "id": "5ac1218e",
   "metadata": {},
   "outputs": [
    {
     "data": {
      "text/plain": [
       "country\n",
       "?           583\n",
       "Cambodia     19\n",
       "Canada      121\n",
       "China        75\n",
       "Columbia     59\n",
       "dtype: int64"
      ]
     },
     "execution_count": 61,
     "metadata": {},
     "output_type": "execute_result"
    }
   ],
   "source": [
    "# Let us count the no of items per country\n",
    "\n",
    "counts=df.groupby('country').size()              \n",
    "counts.head()\n"
   ]
  },
  {
   "cell_type": "code",
   "execution_count": 62,
   "id": "f1998e51",
   "metadata": {},
   "outputs": [],
   "source": [
    "#Lets split people according to their gender\n",
    "m1=df[df.sex=='Male']      "
   ]
  },
  {
   "cell_type": "code",
   "execution_count": 63,
   "id": "c0b4e6fc",
   "metadata": {},
   "outputs": [
    {
     "data": {
      "text/html": [
       "<div>\n",
       "<style scoped>\n",
       "    .dataframe tbody tr th:only-of-type {\n",
       "        vertical-align: middle;\n",
       "    }\n",
       "\n",
       "    .dataframe tbody tr th {\n",
       "        vertical-align: top;\n",
       "    }\n",
       "\n",
       "    .dataframe thead th {\n",
       "        text-align: right;\n",
       "    }\n",
       "</style>\n",
       "<table border=\"1\" class=\"dataframe\">\n",
       "  <thead>\n",
       "    <tr style=\"text-align: right;\">\n",
       "      <th></th>\n",
       "      <th>age</th>\n",
       "      <th>type_employer</th>\n",
       "      <th>fnlwgt</th>\n",
       "      <th>education</th>\n",
       "      <th>education_num</th>\n",
       "      <th>marital</th>\n",
       "      <th>occupation</th>\n",
       "      <th>relationship</th>\n",
       "      <th>race</th>\n",
       "      <th>sex</th>\n",
       "      <th>captial_gain</th>\n",
       "      <th>capital_loss</th>\n",
       "      <th>hr_per_week</th>\n",
       "      <th>country</th>\n",
       "      <th>income</th>\n",
       "    </tr>\n",
       "  </thead>\n",
       "  <tbody>\n",
       "    <tr>\n",
       "      <th>0</th>\n",
       "      <td>39</td>\n",
       "      <td>State-gov</td>\n",
       "      <td>77516</td>\n",
       "      <td>Bachelors</td>\n",
       "      <td>13</td>\n",
       "      <td>Never-married</td>\n",
       "      <td>Adm-clerical</td>\n",
       "      <td>Not-in-family</td>\n",
       "      <td>White</td>\n",
       "      <td>Male</td>\n",
       "      <td>2174</td>\n",
       "      <td>0</td>\n",
       "      <td>40</td>\n",
       "      <td>United-States</td>\n",
       "      <td>&lt;=50K\\n</td>\n",
       "    </tr>\n",
       "    <tr>\n",
       "      <th>1</th>\n",
       "      <td>50</td>\n",
       "      <td>Self-emp-not-inc</td>\n",
       "      <td>83311</td>\n",
       "      <td>Bachelors</td>\n",
       "      <td>13</td>\n",
       "      <td>Married-civ-spouse</td>\n",
       "      <td>Exec-managerial</td>\n",
       "      <td>Husband</td>\n",
       "      <td>White</td>\n",
       "      <td>Male</td>\n",
       "      <td>0</td>\n",
       "      <td>0</td>\n",
       "      <td>13</td>\n",
       "      <td>United-States</td>\n",
       "      <td>&lt;=50K\\n</td>\n",
       "    </tr>\n",
       "    <tr>\n",
       "      <th>2</th>\n",
       "      <td>38</td>\n",
       "      <td>Private</td>\n",
       "      <td>215646</td>\n",
       "      <td>HS-grad</td>\n",
       "      <td>9</td>\n",
       "      <td>Divorced</td>\n",
       "      <td>Handlers-cleaners</td>\n",
       "      <td>Not-in-family</td>\n",
       "      <td>White</td>\n",
       "      <td>Male</td>\n",
       "      <td>0</td>\n",
       "      <td>0</td>\n",
       "      <td>40</td>\n",
       "      <td>United-States</td>\n",
       "      <td>&lt;=50K\\n</td>\n",
       "    </tr>\n",
       "    <tr>\n",
       "      <th>3</th>\n",
       "      <td>53</td>\n",
       "      <td>Private</td>\n",
       "      <td>234721</td>\n",
       "      <td>11th</td>\n",
       "      <td>7</td>\n",
       "      <td>Married-civ-spouse</td>\n",
       "      <td>Handlers-cleaners</td>\n",
       "      <td>Husband</td>\n",
       "      <td>Black</td>\n",
       "      <td>Male</td>\n",
       "      <td>0</td>\n",
       "      <td>0</td>\n",
       "      <td>40</td>\n",
       "      <td>United-States</td>\n",
       "      <td>&lt;=50K\\n</td>\n",
       "    </tr>\n",
       "    <tr>\n",
       "      <th>7</th>\n",
       "      <td>52</td>\n",
       "      <td>Self-emp-not-inc</td>\n",
       "      <td>209642</td>\n",
       "      <td>HS-grad</td>\n",
       "      <td>9</td>\n",
       "      <td>Married-civ-spouse</td>\n",
       "      <td>Exec-managerial</td>\n",
       "      <td>Husband</td>\n",
       "      <td>White</td>\n",
       "      <td>Male</td>\n",
       "      <td>0</td>\n",
       "      <td>0</td>\n",
       "      <td>45</td>\n",
       "      <td>United-States</td>\n",
       "      <td>&gt;50K\\n</td>\n",
       "    </tr>\n",
       "    <tr>\n",
       "      <th>...</th>\n",
       "      <td>...</td>\n",
       "      <td>...</td>\n",
       "      <td>...</td>\n",
       "      <td>...</td>\n",
       "      <td>...</td>\n",
       "      <td>...</td>\n",
       "      <td>...</td>\n",
       "      <td>...</td>\n",
       "      <td>...</td>\n",
       "      <td>...</td>\n",
       "      <td>...</td>\n",
       "      <td>...</td>\n",
       "      <td>...</td>\n",
       "      <td>...</td>\n",
       "      <td>...</td>\n",
       "    </tr>\n",
       "    <tr>\n",
       "      <th>32553</th>\n",
       "      <td>32</td>\n",
       "      <td>Private</td>\n",
       "      <td>116138</td>\n",
       "      <td>Masters</td>\n",
       "      <td>14</td>\n",
       "      <td>Never-married</td>\n",
       "      <td>Tech-support</td>\n",
       "      <td>Not-in-family</td>\n",
       "      <td>Asian-Pac-Islander</td>\n",
       "      <td>Male</td>\n",
       "      <td>0</td>\n",
       "      <td>0</td>\n",
       "      <td>11</td>\n",
       "      <td>Taiwan</td>\n",
       "      <td>&lt;=50K\\n</td>\n",
       "    </tr>\n",
       "    <tr>\n",
       "      <th>32554</th>\n",
       "      <td>53</td>\n",
       "      <td>Private</td>\n",
       "      <td>321865</td>\n",
       "      <td>Masters</td>\n",
       "      <td>14</td>\n",
       "      <td>Married-civ-spouse</td>\n",
       "      <td>Exec-managerial</td>\n",
       "      <td>Husband</td>\n",
       "      <td>White</td>\n",
       "      <td>Male</td>\n",
       "      <td>0</td>\n",
       "      <td>0</td>\n",
       "      <td>40</td>\n",
       "      <td>United-States</td>\n",
       "      <td>&gt;50K\\n</td>\n",
       "    </tr>\n",
       "    <tr>\n",
       "      <th>32555</th>\n",
       "      <td>22</td>\n",
       "      <td>Private</td>\n",
       "      <td>310152</td>\n",
       "      <td>Some-college</td>\n",
       "      <td>10</td>\n",
       "      <td>Never-married</td>\n",
       "      <td>Protective-serv</td>\n",
       "      <td>Not-in-family</td>\n",
       "      <td>White</td>\n",
       "      <td>Male</td>\n",
       "      <td>0</td>\n",
       "      <td>0</td>\n",
       "      <td>40</td>\n",
       "      <td>United-States</td>\n",
       "      <td>&lt;=50K\\n</td>\n",
       "    </tr>\n",
       "    <tr>\n",
       "      <th>32557</th>\n",
       "      <td>40</td>\n",
       "      <td>Private</td>\n",
       "      <td>154374</td>\n",
       "      <td>HS-grad</td>\n",
       "      <td>9</td>\n",
       "      <td>Married-civ-spouse</td>\n",
       "      <td>Machine-op-inspct</td>\n",
       "      <td>Husband</td>\n",
       "      <td>White</td>\n",
       "      <td>Male</td>\n",
       "      <td>0</td>\n",
       "      <td>0</td>\n",
       "      <td>40</td>\n",
       "      <td>United-States</td>\n",
       "      <td>&gt;50K\\n</td>\n",
       "    </tr>\n",
       "    <tr>\n",
       "      <th>32559</th>\n",
       "      <td>22</td>\n",
       "      <td>Private</td>\n",
       "      <td>201490</td>\n",
       "      <td>HS-grad</td>\n",
       "      <td>9</td>\n",
       "      <td>Never-married</td>\n",
       "      <td>Adm-clerical</td>\n",
       "      <td>Own-child</td>\n",
       "      <td>White</td>\n",
       "      <td>Male</td>\n",
       "      <td>0</td>\n",
       "      <td>0</td>\n",
       "      <td>20</td>\n",
       "      <td>United-States</td>\n",
       "      <td>&lt;=50K\\n</td>\n",
       "    </tr>\n",
       "  </tbody>\n",
       "</table>\n",
       "<p>21790 rows × 15 columns</p>\n",
       "</div>"
      ],
      "text/plain": [
       "       age     type_employer  fnlwgt     education  education_num  \\\n",
       "0       39         State-gov   77516     Bachelors             13   \n",
       "1       50  Self-emp-not-inc   83311     Bachelors             13   \n",
       "2       38           Private  215646       HS-grad              9   \n",
       "3       53           Private  234721          11th              7   \n",
       "7       52  Self-emp-not-inc  209642       HS-grad              9   \n",
       "...    ...               ...     ...           ...            ...   \n",
       "32553   32           Private  116138       Masters             14   \n",
       "32554   53           Private  321865       Masters             14   \n",
       "32555   22           Private  310152  Some-college             10   \n",
       "32557   40           Private  154374       HS-grad              9   \n",
       "32559   22           Private  201490       HS-grad              9   \n",
       "\n",
       "                  marital         occupation   relationship  \\\n",
       "0           Never-married       Adm-clerical  Not-in-family   \n",
       "1      Married-civ-spouse    Exec-managerial        Husband   \n",
       "2                Divorced  Handlers-cleaners  Not-in-family   \n",
       "3      Married-civ-spouse  Handlers-cleaners        Husband   \n",
       "7      Married-civ-spouse    Exec-managerial        Husband   \n",
       "...                   ...                ...            ...   \n",
       "32553       Never-married       Tech-support  Not-in-family   \n",
       "32554  Married-civ-spouse    Exec-managerial        Husband   \n",
       "32555       Never-married    Protective-serv  Not-in-family   \n",
       "32557  Married-civ-spouse  Machine-op-inspct        Husband   \n",
       "32559       Never-married       Adm-clerical      Own-child   \n",
       "\n",
       "                     race   sex  captial_gain  capital_loss  hr_per_week  \\\n",
       "0                   White  Male          2174             0           40   \n",
       "1                   White  Male             0             0           13   \n",
       "2                   White  Male             0             0           40   \n",
       "3                   Black  Male             0             0           40   \n",
       "7                   White  Male             0             0           45   \n",
       "...                   ...   ...           ...           ...          ...   \n",
       "32553  Asian-Pac-Islander  Male             0             0           11   \n",
       "32554               White  Male             0             0           40   \n",
       "32555               White  Male             0             0           40   \n",
       "32557               White  Male             0             0           40   \n",
       "32559               White  Male             0             0           20   \n",
       "\n",
       "             country   income  \n",
       "0      United-States  <=50K\\n  \n",
       "1      United-States  <=50K\\n  \n",
       "2      United-States  <=50K\\n  \n",
       "3      United-States  <=50K\\n  \n",
       "7      United-States   >50K\\n  \n",
       "...              ...      ...  \n",
       "32553         Taiwan  <=50K\\n  \n",
       "32554  United-States   >50K\\n  \n",
       "32555  United-States  <=50K\\n  \n",
       "32557  United-States   >50K\\n  \n",
       "32559  United-States  <=50K\\n  \n",
       "\n",
       "[21790 rows x 15 columns]"
      ]
     },
     "execution_count": 63,
     "metadata": {},
     "output_type": "execute_result"
    }
   ],
   "source": [
    "m1"
   ]
  },
  {
   "cell_type": "code",
   "execution_count": 64,
   "id": "52bc45d2",
   "metadata": {},
   "outputs": [],
   "source": [
    "# High-income professionals seperated by sex\n",
    "\n",
    "m11=df[(df.sex=='Male')&(df.income=='>50K\\n')]            \n",
    "fm=df[df.sex=='Female']\n",
    "fm1=df[(df.sex=='Female')&(df.income=='>50K\\n')]"
   ]
  },
  {
   "cell_type": "markdown",
   "id": "5564ddcd",
   "metadata": {},
   "source": [
    "EXPLORATORY DATA ANALYSIS- One of the main goals of EDA is to visualize and summarize the sample distribution, thereby\n",
    "allowing us to make tentative assumptions about the populaiton distribution. "
   ]
  },
  {
   "cell_type": "markdown",
   "id": "605e024a",
   "metadata": {},
   "source": [
    "SUMMARIZING THE DATA - For Categorical data, a simple tabulation of the frequency of each category is the best non-graphical\n",
    "exploration for data analysis.\n",
    "\n"
   ]
  },
  {
   "cell_type": "code",
   "execution_count": 65,
   "id": "d4f716b5",
   "metadata": {},
   "outputs": [
    {
     "name": "stdout",
     "output_type": "stream",
     "text": [
      "The rate of people with hig-income is:24'%'\n",
      "The rate of men with hig-income is:30'%'\n",
      "The rate of female with hig-income is:10'%'\n"
     ]
    }
   ],
   "source": [
    "#For Ex:- What is the proportion of high-income professionals in our database?\n",
    "\n",
    "df1=df[df.income=='>50K\\n']\n",
    "print(f\"The rate of people with hig-income is:{int(len(df1)/float(len(df))*100)}'%'\")\n",
    "print(f\"The rate of men with hig-income is:{int(len(m11)/float(len(m1))*100)}'%'\")\n",
    "print(f\"The rate of female with hig-income is:{int(len(fm1)/float(len(fm))*100)}'%'\")"
   ]
  },
  {
   "cell_type": "markdown",
   "id": "8de11337",
   "metadata": {},
   "source": [
    "The quantitative characteristics of the population distribution of a quantitative variable are its mean,deviation, histograms,outliers etc. "
   ]
  },
  {
   "cell_type": "markdown",
   "id": "abea7164",
   "metadata": {},
   "source": [
    "MEAN- Sum of Values divided by no of values"
   ]
  },
  {
   "cell_type": "code",
   "execution_count": 66,
   "id": "bd71e9d3",
   "metadata": {},
   "outputs": [
    {
     "name": "stdout",
     "output_type": "stream",
     "text": [
      "The Average age of the men is:39.43354749885268\n",
      "The Average age of the female is:36.85823043357163\n",
      "The Average age of the high-income men is:44.62578805163614\n",
      "The Average age of the high-income women is:42.125530110262936\n"
     ]
    }
   ],
   "source": [
    "# Lets print Average Samples of Men & Women in our dataset\n",
    "\n",
    "print(f\"The Average age of the men is:{m1['age'].mean()}\")                           \n",
    "print(f\"The Average age of the female is:{fm['age'].mean()}\")\n",
    "print(f\"The Average age of the high-income men is:{m11['age'].mean()}\")\n",
    "print(f\"The Average age of the high-income women is:{fm1['age'].mean()}\")"
   ]
  },
  {
   "cell_type": "markdown",
   "id": "efdada24",
   "metadata": {},
   "source": [
    "1. Population Mean (is the mean of whole population) \n",
    "2. Sample Mean (is taken from the population) "
   ]
  },
  {
   "cell_type": "markdown",
   "id": "0966d88f",
   "metadata": {},
   "source": [
    "Sample Variace:- It describes the spread of the data \n",
    "Standard Deviation:- The square root of the mean "
   ]
  },
  {
   "cell_type": "code",
   "execution_count": 67,
   "id": "94c0ada1",
   "metadata": {},
   "outputs": [
    {
     "name": "stdout",
     "output_type": "stream",
     "text": [
      "Stastistics of age for men\n",
      "   mean is : 39.43354749885268\n",
      "variance is :178.77375174530096\n",
      " standard deviation is:13.37063019252649\n",
      "\n",
      "Stastistics of age for women\n",
      " mean is:36.85823043357163\n",
      "variance is:196.3837063948037\n",
      "standard deviation is:14.01369709943824\n",
      "\n"
     ]
    }
   ],
   "source": [
    "# Let`s compute the mean and variance of hours per week of men and women in our dataset-work:\n",
    "\n",
    "m1_mu=m1['age'].mean()\n",
    "fm_mu=fm['age'].mean()\n",
    "m1_var=m1['age'].var()\n",
    "fm_var=fm['age'].var()\n",
    "m1_std=m1['age'].std()\n",
    "fm_std=fm['age'].std()\n",
    "print(f\"Stastistics of age for men\\n   mean is : {m1_mu}\\nvariance is :{m1_var}\\n standard deviation is:{m1_std}\\n\")\n",
    "print(f\"Stastistics of age for women\\n mean is:{fm_mu}\\nvariance is:{fm_var}\\nstandard deviation is:{fm_std}\\n\")\n",
    "\n"
   ]
  },
  {
   "cell_type": "markdown",
   "id": "2a79abf7",
   "metadata": {},
   "source": [
    " #Sample Median - Stastistican median is defined as the value in the middle of the ordered list.\n",
    " \n",
    " #outlier- An item of data significatly different form the rest of the data."
   ]
  },
  {
   "cell_type": "code",
   "execution_count": 68,
   "id": "75d22108",
   "metadata": {},
   "outputs": [
    {
     "name": "stdout",
     "output_type": "stream",
     "text": [
      "Median age per men and women : 38.035.0\n",
      "Median age per men and women with high-income  : 44.041.0\n"
     ]
    }
   ],
   "source": [
    "# Median age of working men and women\n",
    "\n",
    "m1_median=m1['age'].median()\n",
    "fm_median=fm['age'].median()\n",
    "print(f\"Median age per men and women : {m1_median}{fm_median}\")\n",
    "\n",
    "#Median age of working men and women with high income\n",
    "m1_median_age=m11['age'].median()\n",
    "fm_median_age=fm1['age'].median()\n",
    "print(f\"Median age per men and women with high-income  : {m1_median_age}{fm_median_age}\")"
   ]
  },
  {
   "cell_type": "code",
   "execution_count": 69,
   "id": "573a9935",
   "metadata": {},
   "outputs": [
    {
     "data": {
      "text/plain": [
       "<AxesSubplot:>"
      ]
     },
     "execution_count": 69,
     "metadata": {},
     "output_type": "execute_result"
    },
    {
     "data": {
      "image/png": "[encoded data removed]",
      "text/plain": [
       "<Figure size 640x480 with 1 Axes>"
      ]
     },
     "metadata": {},
     "output_type": "display_data"
    }
   ],
   "source": [
    "# MOST COMMON DISTRIBUTION IS A HISTOGRAM GRAPH\n",
    "#LET US SHOW THE AGE OF THE WORKING MEN AND WOMEN SEPERATELY FROM THE ABOVE GIVEN DATA SET\n",
    "\n",
    "m1_age=m1['age']\n",
    "m1_age.hist ( histtype ='stepfilled', bins=20)"
   ]
  },
  {
   "cell_type": "code",
   "execution_count": 70,
   "id": "e222c904",
   "metadata": {},
   "outputs": [
    {
     "data": {
      "text/plain": [
       "<AxesSubplot:>"
      ]
     },
     "execution_count": 70,
     "metadata": {},
     "output_type": "execute_result"
    },
    {
     "data": {
      "image/png": "[encoded data removed]",
      "text/plain": [
       "<Figure size 640x480 with 1 Axes>"
      ]
     },
     "metadata": {},
     "output_type": "display_data"
    }
   ],
   "source": [
    "fm_age=fm['age']\n",
    "fm_age.hist(histtype='stepfilled', bins=10)"
   ]
  },
  {
   "cell_type": "code",
   "execution_count": 71,
   "id": "dad17987",
   "metadata": {},
   "outputs": [
    {
     "data": {
      "text/plain": [
       "<AxesSubplot:>"
      ]
     },
     "execution_count": 71,
     "metadata": {},
     "output_type": "execute_result"
    },
    {
     "data": {
      "image/png": "[encoded data removed]",
      "text/plain": [
       "<Figure size 640x480 with 1 Axes>"
      ]
     },
     "metadata": {},
     "output_type": "display_data"
    }
   ],
   "source": [
    "# If we want to compare them then We can plot them overlapping in a single graph as below\n",
    "\n",
    "import seaborn as sns\n",
    "\n",
    "fm_age=fm['age']\n",
    "fm_age.hist(histtype='stepfilled', alpha=0.5,bins=20)\n",
    "\n",
    "m1_age=m1['age']\n",
    "m1_age.hist ( histtype ='stepfilled', alpha=0.5, color = sns.desaturate('indianred',0.75),bins=10)"
   ]
  },
  {
   "cell_type": "markdown",
   "id": "28f3fd36",
   "metadata": {},
   "source": [
    "Histogram of the age of the working men is in (Ochre) and women is in (Violet)\n",
    "    "
   ]
  },
  {
   "cell_type": "markdown",
   "id": "f82cc8cf",
   "metadata": {},
   "source": [
    "Note:- We are Visualizing the absolute values of number of people in our dataset according to their age. As a side effect, \n",
    "    \n",
    "     We can see there are many more men in these conditions than women.\n",
    "     We can normalize the frequencies of the histogram by dividing/normalizing by n, number of samples. The normalized histogram \n",
    "    is called as Probability Mass Function (PMF)"
   ]
  },
  {
   "cell_type": "code",
   "execution_count": 72,
   "id": "94d144f6",
   "metadata": {},
   "outputs": [
    {
     "data": {
      "text/plain": [
       "<AxesSubplot:>"
      ]
     },
     "execution_count": 72,
     "metadata": {},
     "output_type": "execute_result"
    },
    {
     "data": {
      "image/png": "[encoded data removed]",
      "text/plain": [
       "<Figure size 640x480 with 1 Axes>"
      ]
     },
     "metadata": {},
     "output_type": "display_data"
    }
   ],
   "source": [
    "fm_age=fm['age']\n",
    "fm_age.hist(density=True, histtype='stepfilled', alpha=0.5,bins=20)\n",
    "\n",
    "m1_age=m1['age']\n",
    "m1_age.hist (density=True,  histtype ='stepfilled', alpha=0.5, color = sns.desaturate('indianred',0.75),bins=10)"
   ]
  },
  {
   "cell_type": "markdown",
   "id": "9bedf8bf",
   "metadata": {},
   "source": [
    "Histogram of the age of working men (in ochre) and women in (Blue) and their intersection (violet) after Normalization"
   ]
  },
  {
   "cell_type": "markdown",
   "id": "c6a4283b",
   "metadata": {},
   "source": [
    "We can observe comparable range of individuals(men and women)"
   ]
  },
  {
   "cell_type": "markdown",
   "id": "82b123c0",
   "metadata": {},
   "source": [
    "The Cumulative Distribution Function (CDF), or just Distribution Function describes the probability that\n",
    "a real- valued random variable X with a given probability distribution will be found to have a value less than or equal to x.\n"
   ]
  },
  {
   "cell_type": "code",
   "execution_count": 73,
   "id": "69fda329",
   "metadata": {},
   "outputs": [
    {
     "data": {
      "text/plain": [
       "<AxesSubplot:>"
      ]
     },
     "execution_count": 73,
     "metadata": {},
     "output_type": "execute_result"
    },
    {
     "data": {
      "image/png": "[encoded data removed]",
      "text/plain": [
       "<Figure size 640x480 with 1 Axes>"
      ]
     },
     "metadata": {},
     "output_type": "display_data"
    }
   ],
   "source": [
    "# CDF of the age distributions of men and women\n",
    "\n",
    "m1_age=m1['age']\n",
    "m1_age.hist (density=True,  histtype ='step', cumulative=True, linewidth=3.5,bins=20)\n",
    "\n",
    "fm_age=fm['age']\n",
    "fm_age.hist(density=True, histtype='step', cumulative=True,linewidth=3.5,color=sns.desaturate('indianred',0.75),bins=20)"
   ]
  },
  {
   "cell_type": "markdown",
   "id": "e080bf12",
   "metadata": {},
   "source": []
  },
  {
   "cell_type": "markdown",
   "id": "2c1eaf80",
   "metadata": {},
   "source": [
    "Outlier Treatment"
   ]
  },
  {
   "cell_type": "markdown",
   "id": "cb6e7a29",
   "metadata": {},
   "source": [
    "Outliers are data samples with a value that is far from centraltendency\n",
    "\n",
    "To detect outliers\n",
    "\n",
    "computing samples that are far from median\n",
    "computin samples whose values exceed the mean by 2 to 3 standard deviations"
   ]
  },
  {
   "cell_type": "markdown",
   "id": "22dc3f6e",
   "metadata": {},
   "source": [
    "We can see in our dataset minimum age is 17 and the maximum is 90 years. we can consider some of these samples are due to errors\n",
    "or not representable. Applying domain knowledge we focus of median age 37 in our case and upto 72 and down to 22 year old, and \n",
    "we consider the rest as outliers."
   ]
  },
  {
   "cell_type": "code",
   "execution_count": 74,
   "id": "41fe70b5",
   "metadata": {},
   "outputs": [],
   "source": [
    "df2=df.drop(df.index[(df.income=='>50K\\n')&\n",
    "                    (df['age']>df['age'].median()+35)&\n",
    "                    (df['age']>df['age'].median()-15)\n",
    "                    ]\n",
    "           )\n",
    "m11_age=m11['age']\n",
    "fm1_age=fm1['age']\n",
    "\n",
    "m12_age=m11_age.drop(m11_age.index[\n",
    "    (m11_age > df ['age'].median()+35) &\n",
    "    (m11_age >df ['age'].median()-15)])\n",
    "fm2_age=fm1_age.drop(fm1_age.index[\n",
    "    (fm1_age > df ['age'].median()+35) &\n",
    "    (fm1_age >df ['age'].median()-15)])\n"
   ]
  },
  {
   "cell_type": "markdown",
   "id": "d0fda8f2",
   "metadata": {},
   "source": [
    "We can check how the mean and median changed once the data were cleaned "
   ]
  },
  {
   "cell_type": "code",
   "execution_count": 75,
   "id": "8671411a",
   "metadata": {},
   "outputs": [
    {
     "name": "stdout",
     "output_type": "stream",
     "text": [
      " Men Stastics: \n",
      " Mean:44.317982123920615, Std:10.019749857171412, Median:44.0,Min:19, Max: 72\n",
      "\n",
      " Women Statistics:\n",
      " Mean:41.877028181041844,Std:10.036441807343714,Median:41.0,Min:19, Max: 72\n"
     ]
    }
   ],
   "source": [
    "mu2ml=m12_age.mean()\n",
    "std2ml=m12_age.std()\n",
    "md2ml=m12_age.median()\n",
    "mu2fm=fm2_age.mean()\n",
    "std2fm=fm2_age.std()\n",
    "md2fm=fm2_age.median()\n",
    "\n",
    "print(f\"\"\" Men Stastics: \\n Mean:{mu2ml}, Std:{std2ml}, Median:{md2ml},Min:{m12_age.min()}, Max: {m12_age.max()}\\n\\n Women Statistics:\n",
    " Mean:{mu2fm},Std:{std2fm},Median:{md2fm},Min:{fm2_age.min()}, Max: {fm2_age.max()}\"\"\")"
   ]
  },
  {
   "cell_type": "code",
   "execution_count": 76,
   "id": "17b5a0d3",
   "metadata": {},
   "outputs": [
    {
     "data": {
      "text/plain": [
       "<AxesSubplot:>"
      ]
     },
     "execution_count": 76,
     "metadata": {},
     "output_type": "execute_result"
    },
    {
     "data": {
      "image/png": "[encoded data removed]",
      "text/plain": [
       "<Figure size 1340x500 with 1 Axes>"
      ]
     },
     "metadata": {},
     "output_type": "display_data"
    }
   ],
   "source": [
    "# Let us visualize how many outliers are removed from the whole data by:\n",
    "import matplotlib.pyplot as plt\n",
    "plt.figure(figsize=(13.4,5))\n",
    "df.age[(df.income=='>50K\\n')].plot(alpha=0.25, color='blue')\n",
    "df2.age[(df2.income=='>50K\\n')].plot(alpha=0.45, color='red')"
   ]
  },
  {
   "cell_type": "markdown",
   "id": "7de2c4de",
   "metadata": {},
   "source": [
    "The red shows the cleaned data with out considered outliers (in blue)"
   ]
  }
 ],
 "metadata": {
  "kernelspec": {
   "display_name": "Python 3 (ipykernel)",
   "language": "python",
   "name": "python3"
  },
  "language_info": {
   "codemirror_mode": {
    "name": "ipython",
    "version": 3
   },
   "file_extension": ".py",
   "mimetype": "text/x-python",
   "name": "python",
   "nbconvert_exporter": "python",
   "pygments_lexer": "ipython3",
   "version": "3.9.13"
  }
 },
 "nbformat": 4,
 "nbformat_minor": 5
}
