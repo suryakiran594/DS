{
 "cells": [
  {
   "cell_type": "markdown",
   "id": "6dff4303",
   "metadata": {},
   "source": [
    "# Making Predictions with Logistic Regression in PyTorch"
   ]
  },
  {
   "cell_type": "markdown",
   "id": "6bfb62d9",
   "metadata": {},
   "source": [
    "How to make predictions with logistic regression in pytorch\n",
    "\n",
    "The logistic function and its implementation on tensors\n",
    "\n",
    "How to build a logistic regression model with nn.Sequential\n",
    "\n",
    "How to build a custom module for logistic regression"
   ]
  },
  {
   "cell_type": "markdown",
   "id": "ab49f506",
   "metadata": {},
   "source": [
    "Create Data Class\n",
    "\n",
    "Build the model with nn.Module\n",
    "\n",
    "Train with Mini-Batch Gradient Descent\n",
    "\n",
    "Plot the Progress"
   ]
  },
  {
   "cell_type": "markdown",
   "id": "a46354d5",
   "metadata": {},
   "source": [
    "What is a logistic Function?\n",
    "\n",
    "When we build a classifier, we wish it can return either 0 or 1. A sigmoid or logistic function can be used in this case as this function \n",
    "always return a value between 0 and 1. Usually we will set a threshold, such as 0.5 to round up or round down the result to\n",
    "designate the output to one class or another."
   ]
  },
  {
   "cell_type": "code",
   "execution_count": 2,
   "id": "94fde311",
   "metadata": {},
   "outputs": [
    {
     "name": "stdout",
     "output_type": "stream",
     "text": [
      "Collecting torchNote: you may need to restart the kernel to use updated packages.\n",
      "\n",
      "  Downloading torch-2.0.1-cp39-cp39-win_amd64.whl (172.4 MB)\n",
      "     -------------------------------------- 172.4/172.4 MB 2.6 MB/s eta 0:00:00\n",
      "Requirement already satisfied: filelock in c:\\users\\kiran\\anaconda3\\lib\\site-packages (from torch) (3.6.0)\n",
      "Requirement already satisfied: typing-extensions in c:\\users\\kiran\\anaconda3\\lib\\site-packages (from torch) (4.3.0)\n",
      "Requirement already satisfied: sympy in c:\\users\\kiran\\anaconda3\\lib\\site-packages (from torch) (1.10.1)\n",
      "Requirement already satisfied: networkx in c:\\users\\kiran\\anaconda3\\lib\\site-packages (from torch) (2.8.4)\n",
      "Requirement already satisfied: jinja2 in c:\\users\\kiran\\anaconda3\\lib\\site-packages (from torch) (2.11.3)\n",
      "Requirement already satisfied: MarkupSafe>=0.23 in c:\\users\\kiran\\anaconda3\\lib\\site-packages (from jinja2->torch) (2.0.1)\n",
      "Requirement already satisfied: mpmath>=0.19 in c:\\users\\kiran\\anaconda3\\lib\\site-packages (from sympy->torch) (1.2.1)\n",
      "Installing collected packages: torch\n",
      "Successfully installed torch-2.0.1\n"
     ]
    },
    {
     "name": "stderr",
     "output_type": "stream",
     "text": [
      "WARNING: Ignoring invalid distribution -rotobuf (c:\\users\\kiran\\anaconda3\\lib\\site-packages)\n",
      "WARNING: Ignoring invalid distribution -rotobuf (c:\\users\\kiran\\anaconda3\\lib\\site-packages)\n",
      "\n",
      "[notice] A new release of pip is available: 23.1.2 -> 23.2\n",
      "[notice] To update, run: python.exe -m pip install --upgrade pip\n"
     ]
    }
   ],
   "source": [
    "pip install torch"
   ]
  },
  {
   "cell_type": "code",
   "execution_count": 4,
   "id": "230c30dd",
   "metadata": {},
   "outputs": [
    {
     "name": "stderr",
     "output_type": "stream",
     "text": [
      "C:\\Users\\KIRAN\\AppData\\Local\\Temp\\ipykernel_25192\\3128882958.py:3: UserWarning: torch.range is deprecated and will be removed in a future release because its behavior is inconsistent with Python's range builtin. Instead, use torch.arange, which produces values in [start, end).\n",
      "  xrange=torch.range(-50,50,0.5)\n"
     ]
    }
   ],
   "source": [
    "import torch\n",
    "torch.manual_seed(42)\n",
    "xrange=torch.range(-50,50,0.5)\n",
    "sig_func=torch.nn.Sigmoid()\n",
    "y_pred=sig_func(xrange)"
   ]
  },
  {
   "cell_type": "markdown",
   "id": "a52d9440",
   "metadata": {},
   "source": [
    "Let`s see how the plot looks like"
   ]
  },
  {
   "cell_type": "code",
   "execution_count": 5,
   "id": "91375458",
   "metadata": {},
   "outputs": [
    {
     "data": {
      "image/png": "[encoded data removed]",
      "text/plain": [
       "<Figure size 640x480 with 1 Axes>"
      ]
     },
     "metadata": {},
     "output_type": "display_data"
    }
   ],
   "source": [
    "import matplotlib.pyplot as plt\n",
    "plt.plot(xrange.numpy(),y_pred.numpy())\n",
    "plt.xlabel('range')\n",
    "plt.ylabel('y_pred')\n",
    "plt.show()"
   ]
  },
  {
   "cell_type": "markdown",
   "id": "df69e481",
   "metadata": {},
   "source": [
    "# Logistic Regression Model via nn.Sequential\n",
    "\n"
   ]
  },
  {
   "cell_type": "code",
   "execution_count": 6,
   "id": "248cd83d",
   "metadata": {},
   "outputs": [],
   "source": [
    "#let`s define a logistic regression model object that takes one-dimensional tensor as input\n",
    "log_regr=torch.nn.Sequential(torch.nn.Linear(1,1),torch.nn.Sigmoid())"
   ]
  },
  {
   "cell_type": "code",
   "execution_count": 9,
   "id": "7cd35ceb",
   "metadata": {},
   "outputs": [
    {
     "name": "stdout",
     "output_type": "stream",
     "text": [
      "[Parameter containing:\n",
      "tensor([[0.7645]], requires_grad=True), Parameter containing:\n",
      "tensor([0.8300], requires_grad=True)]\n"
     ]
    }
   ],
   "source": [
    "# we can check the list of model parameters using parameters() method.\n",
    "print(list(log_regr.parameters()))"
   ]
  },
  {
   "cell_type": "code",
   "execution_count": 11,
   "id": "5e58a6f8",
   "metadata": {},
   "outputs": [],
   "source": [
    "# now let`s define a one-dimensional tensor x and make predictions with our logistic regression model\n",
    "\n",
    "x=torch.tensor([[1],[2],[3],[4]],dtype=torch.float32)"
   ]
  },
  {
   "cell_type": "code",
   "execution_count": 12,
   "id": "82ebe935",
   "metadata": {},
   "outputs": [
    {
     "name": "stdout",
     "output_type": "stream",
     "text": [
      "here is model prediction tensor([[0.8313],\n",
      "        [0.9137],\n",
      "        [0.9579],\n",
      "        [0.9799]], grad_fn=<SigmoidBackward0>)\n"
     ]
    }
   ],
   "source": [
    "y_pred=log_regr(x)\n",
    "print('here is model prediction', y_pred)"
   ]
  },
  {
   "cell_type": "markdown",
   "id": "1c289745",
   "metadata": {},
   "source": [
    "# Custom Module for Logistic Regression"
   ]
  },
  {
   "cell_type": "code",
   "execution_count": 17,
   "id": "00d4f5be",
   "metadata": {},
   "outputs": [],
   "source": [
    "# build custom module for logistic regression\n",
    "\n",
    "class LogisticRegression(torch.nn.Module):\n",
    "    #build the constructor\n",
    "    def __init__(self,n_inputs):\n",
    "        super(LogisticRegression,self).__init__()\n",
    "        self.linear=torch.nn.Linear(n_inputs,1)\n",
    "        \n",
    "        #make predictions\n",
    "    def forward(self,x):\n",
    "        y_pred=torch.sigmoid(self.linear(x))\n",
    "        return y_pred"
   ]
  },
  {
   "cell_type": "code",
   "execution_count": 18,
   "id": "1c2728d6",
   "metadata": {},
   "outputs": [],
   "source": [
    "log_regr_cus=LogisticRegression(1)"
   ]
  },
  {
   "cell_type": "code",
   "execution_count": 19,
   "id": "0f1ad9dc",
   "metadata": {},
   "outputs": [
    {
     "name": "stdout",
     "output_type": "stream",
     "text": [
      "here is model prediction tensor([[0.4957],\n",
      "        [0.4412],\n",
      "        [0.3880],\n",
      "        [0.3375]], grad_fn=<SigmoidBackward0>)\n"
     ]
    }
   ],
   "source": [
    "y_pred=log_regr_cus(x)\n",
    "print('here is model prediction',y_pred)"
   ]
  },
  {
   "cell_type": "code",
   "execution_count": null,
   "id": "7b7ec9c1",
   "metadata": {},
   "outputs": [],
   "source": []
  }
 ],
 "metadata": {
  "kernelspec": {
   "display_name": "Python 3 (ipykernel)",
   "language": "python",
   "name": "python3"
  },
  "language_info": {
   "codemirror_mode": {
    "name": "ipython",
    "version": 3
   },
   "file_extension": ".py",
   "mimetype": "text/x-python",
   "name": "python",
   "nbconvert_exporter": "python",
   "pygments_lexer": "ipython3",
   "version": "3.9.13"
  }
 },
 "nbformat": 4,
 "nbformat_minor": 5
}
