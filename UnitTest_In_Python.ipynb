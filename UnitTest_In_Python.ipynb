{
  "nbformat": 4,
  "nbformat_minor": 0,
  "metadata": {
    "colab": {
      "provenance": [],
      "authorship_tag": "ABX9TyN3cpIs4WFWLkVZn4mkejWX",
      "include_colab_link": true
    },
    "kernelspec": {
      "name": "python3",
      "display_name": "Python 3"
    },
    "language_info": {
      "name": "python"
    }
  },
  "cells": [
    {
      "cell_type": "markdown",
      "metadata": {
        "id": "view-in-github",
        "colab_type": "text"
      },
      "source": [
        "<a href=\"https://colab.research.google.com/github/suryakiran594/DS/blob/main/UnitTest_In_Python.ipynb\" target=\"_parent\"><img src=\"https://colab.research.google.com/assets/colab-badge.svg\" alt=\"Open In Colab\"/></a>"
      ]
    },
    {
      "cell_type": "markdown",
      "source": [
        "a unit test is a test that checks single component of the code, usually modularized as a function, and ensures that it perfomrs as expected"
      ],
      "metadata": {
        "id": "RWClaOW3ppXK"
      }
    },
    {
      "cell_type": "markdown",
      "source": [
        "Unit tests are an important part of regression testing to ensure that the code still functions as expected after making changes to the code and helps ensure code stability. After making changes to our code, we can run the unit tests we have created previously to ensure that the existing functionality in other parts of the codebase has not been impacted by our changes.\n",
        "\n"
      ],
      "metadata": {
        "id": "F6iG_KF3qUKL"
      }
    },
    {
      "cell_type": "code",
      "execution_count": 2,
      "metadata": {
        "id": "FXw1plImpBh8"
      },
      "outputs": [],
      "source": [
        "def calculate_area_rectangle(width,height):\n",
        "  return width*height"
      ]
    },
    {
      "cell_type": "code",
      "source": [
        "result=calculate_area_rectangle(10,20)\n",
        "print(f\"Area is :{result}\")"
      ],
      "metadata": {
        "colab": {
          "base_uri": "https://localhost:8080/",
          "height": 0
        },
        "id": "jyMrC1A8pQ4_",
        "outputId": "6848becf-4f77-4a7c-ea5e-7316ac73d29a"
      },
      "execution_count": 4,
      "outputs": [
        {
          "output_type": "stream",
          "name": "stdout",
          "text": [
            "Area is :200\n"
          ]
        }
      ]
    },
    {
      "cell_type": "markdown",
      "source": [
        "# Create a Rectangle class with multiple functions to carry out testing"
      ],
      "metadata": {
        "id": "NG6ohm6Eq8kb"
      }
    },
    {
      "cell_type": "code",
      "source": [
        "class Rectangle:\n",
        "  def __init__(self,width,height):\n",
        "    self.width=width\n",
        "    self.height=height\n",
        "\n",
        "  def get_area(self):\n",
        "    return self.width*self.height\n",
        "  def set_width(self,width):\n",
        "    self.width=width\n",
        "  \n",
        "  def set_height(self,height):\n",
        "    self.height=height\n"
      ],
      "metadata": {
        "id": "nwrBcMg4pcvt"
      },
      "execution_count": 26,
      "outputs": []
    },
    {
      "cell_type": "markdown",
      "source": [
        "Let`s explore how exactly we can use unit tests as part of our development pipeline and how to implement them in python"
      ],
      "metadata": {
        "id": "fYXJFca1rtZp"
      }
    },
    {
      "cell_type": "code",
      "source": [
        "import unittest"
      ],
      "metadata": {
        "id": "ScnV8UyEr9va"
      },
      "execution_count": 10,
      "outputs": []
    },
    {
      "cell_type": "code",
      "source": [
        "#Create an unit test\n",
        "class TestGetAreaRectangle(unittest.TestCase):\n",
        "  def runTest(self):\n",
        "    rectangle=Rectangle(2,3)\n",
        "    self.assertEqual(rectangle.get_area(),6,\"incorrect area\")\n",
        "if __name__== '__main__':\n",
        "    unittest.main(argv=['first-arg-is-ignored'], exit=False)\n",
        "\n",
        "\n"
      ],
      "metadata": {
        "colab": {
          "base_uri": "https://localhost:8080/",
          "height": 0
        },
        "id": "jmKLR8-ptEKD",
        "outputId": "8a0e2adb-c380-4d66-996e-2a53e59da380"
      },
      "execution_count": 42,
      "outputs": [
        {
          "output_type": "stream",
          "name": "stderr",
          "text": [
            ".\n",
            "----------------------------------------------------------------------\n",
            "Ran 1 test in 0.004s\n",
            "\n",
            "OK\n"
          ]
        }
      ]
    },
    {
      "cell_type": "markdown",
      "source": [
        "#The complete code is as follows"
      ],
      "metadata": {
        "id": "vs6HuMSN5e9k"
      }
    },
    {
      "cell_type": "code",
      "source": [
        "import unittest\n",
        "class Rectangle:\n",
        "  def __init__(self,width,height):\n",
        "    self.width=width\n",
        "    self.height=height\n",
        "\n",
        "  def get_area(self):\n",
        "    return self.width*self.height\n",
        "  def set_width(self,width):\n",
        "    self.width=width\n",
        "  \n",
        "  def set_height(self,height):\n",
        "    self.height=height\n",
        "#Create an unit test\n",
        "class TestGetAreaRectangle(unittest.TestCase):\n",
        "  def runTest(self):\n",
        "    rectangle=Rectangle(2,3)\n",
        "    self.assertEqual(rectangle.get_area(),6,\"incorrect area\")\n",
        "if __name__== '__main__':\n",
        "\n",
        "  #Run the Test\n",
        "    unittest.main(argv=['first-arg-is-ignored'], exit=False)\n",
        "\n"
      ],
      "metadata": {
        "colab": {
          "base_uri": "https://localhost:8080/",
          "height": 0
        },
        "id": "lJetcLDVt5Ms",
        "outputId": "b1ff9378-87c6-4758-a186-0e12fafbf03f"
      },
      "execution_count": 46,
      "outputs": [
        {
          "output_type": "stream",
          "name": "stderr",
          "text": [
            ".\n",
            "----------------------------------------------------------------------\n",
            "Ran 1 test in 0.004s\n",
            "\n",
            "OK\n"
          ]
        }
      ]
    },
    {
      "cell_type": "markdown",
      "source": [
        "We can also nest multiple unit tests together in one subclass of unittest.\n",
        "\n"
      ],
      "metadata": {
        "id": "3Pd3T6ui6M4J"
      }
    },
    {
      "cell_type": "code",
      "source": [
        "import unittest\n",
        "class Rectangle:\n",
        "  def __init__(self,width,height):\n",
        "    self.width=width\n",
        "    self.height=height\n",
        "\n",
        "  def get_area(self):\n",
        "    return self.width*self.height\n",
        "  def set_width(self,width):\n",
        "    self.width=width\n",
        "  \n",
        "  def set_height(self,height):\n",
        "    self.height=height\n",
        "#Create an unit test\n",
        "class TestGetAreaRectangle(unittest.TestCase):\n",
        "  def test_normal_case(self):\n",
        "    rectangle=Rectangle(2,3)\n",
        "    self.assertEqual(rectangle.get_area(),6,\"incorrect area\")\n",
        "  def test_negetive_case(self):\n",
        "    \"\"\" expect -1 as output to denote error when looking at negetive area \"\"\"\n",
        "    rectangle=Rectangle(-1,2)\n",
        "    self.assertEqual(rectangle.get_area(),-1,\"incorrect negetive output \")\n",
        "\n",
        "\n",
        "\n",
        "if __name__== '__main__':\n",
        "\n",
        "  #Run the Test\n",
        "    unittest.main(argv=['first-arg-is-ignored'], exit=False)\n",
        "\n"
      ],
      "metadata": {
        "colab": {
          "base_uri": "https://localhost:8080/",
          "height": 0
        },
        "id": "dtW1PZFN5x0M",
        "outputId": "5fb7a568-7786-49a4-fe46-5fcf25d0d970"
      },
      "execution_count": 47,
      "outputs": [
        {
          "output_type": "stream",
          "name": "stderr",
          "text": [
            "F.\n",
            "======================================================================\n",
            "FAIL: test_negetive_case (__main__.TestGetAreaRectangle)\n",
            "expect -1 as output to denote error when looking at negetive area\n",
            "----------------------------------------------------------------------\n",
            "Traceback (most recent call last):\n",
            "  File \"<ipython-input-47-b7e7a8b45621>\", line 22, in test_negetive_case\n",
            "    self.assertEqual(rectangle.get_area(),-1,\"incorrect negetive output \")\n",
            "AssertionError: -2 != -1 : incorrect negetive output \n",
            "\n",
            "----------------------------------------------------------------------\n",
            "Ran 2 tests in 0.011s\n",
            "\n",
            "FAILED (failures=1)\n"
          ]
        }
      ]
    },
    {
      "cell_type": "code",
      "source": [
        "def test_geq(self):\n",
        "  #tests if the value is greater than equal to a particualr target\n",
        "  self.assertGreaterEqual(self.rectangle.get_area(),-1)"
      ],
      "metadata": {
        "id": "lUBiSgkY66f0"
      },
      "execution_count": 48,
      "outputs": []
    },
    {
      "cell_type": "code",
      "source": [
        "unittest.main(argv=['first-arg-is-ignored'],exit=False)"
      ],
      "metadata": {
        "colab": {
          "base_uri": "https://localhost:8080/",
          "height": 0
        },
        "id": "o1DPJgPc8HdW",
        "outputId": "8bf73797-0fb7-43da-ccab-d330efef0c0f"
      },
      "execution_count": 50,
      "outputs": [
        {
          "output_type": "stream",
          "name": "stderr",
          "text": [
            "F.\n",
            "======================================================================\n",
            "FAIL: test_negetive_case (__main__.TestGetAreaRectangle)\n",
            "expect -1 as output to denote error when looking at negetive area\n",
            "----------------------------------------------------------------------\n",
            "Traceback (most recent call last):\n",
            "  File \"<ipython-input-47-b7e7a8b45621>\", line 22, in test_negetive_case\n",
            "    self.assertEqual(rectangle.get_area(),-1,\"incorrect negetive output \")\n",
            "AssertionError: -2 != -1 : incorrect negetive output \n",
            "\n",
            "----------------------------------------------------------------------\n",
            "Ran 2 tests in 0.005s\n",
            "\n",
            "FAILED (failures=1)\n"
          ]
        },
        {
          "output_type": "execute_result",
          "data": {
            "text/plain": [
              "<unittest.main.TestProgram at 0x7f691948cb80>"
            ]
          },
          "metadata": {},
          "execution_count": 50
        }
      ]
    },
    {
      "cell_type": "code",
      "source": [
        "def test_assert_raises(self):\n",
        "  #using assert raises to detect if an expected error is raised when running a particular block of code\n",
        "  with self.assertRaises(ZeroDivisionError): \n",
        "   a=1/0"
      ],
      "metadata": {
        "id": "qJnuJZdG8KP_"
      },
      "execution_count": 53,
      "outputs": []
    },
    {
      "cell_type": "code",
      "source": [
        "import unittest\n",
        "class Rectangle:\n",
        "  def __init__(self,width,height):\n",
        "    self.width=width\n",
        "    self.height=height\n",
        "\n",
        "  def get_area(self):\n",
        "    return self.width*self.height\n",
        "  def set_width(self,width):\n",
        "    self.width=width\n",
        "  \n",
        "  def set_height(self,height):\n",
        "    self.height=height\n",
        "#Create an unit test\n",
        "class TestGetAreaRectangle(unittest.TestCase):\n",
        "  def test_normal_case(self):\n",
        "    rectangle=Rectangle(2,3)\n",
        "    self.assertEqual(rectangle.get_area(),6,\"incorrect area\")\n",
        "  def test_negetive_case(self):\n",
        "    \"\"\" expect -1 as output to denote error when looking at negetive area \"\"\"\n",
        "    rectangle=Rectangle(-1,2)\n",
        "    self.assertEqual(rectangle.get_area(),-1,\"incorrect negetive output \")\n",
        "  \n",
        "  \"\"\"def test_geq(self):\n",
        "   #tests if the value is greater than equal to a particualr target\n",
        "     self.assertGreaterEqual(self.rectangle.get_area(),-1)\"\"\"\n",
        "  \n",
        "  def test_assert_raises(self):\n",
        "  #using assert raises to detect if an expected error is raised when running a particular block of code\n",
        "    with self.assertRaises(ZeroDivisionError): \n",
        "      a=1/0\n",
        "\n",
        "if __name__== '__main__':\n",
        "\n",
        "  #Run the Test\n",
        "    unittest.main(argv=['first-arg-is-ignored'], exit=False)\n",
        "\n"
      ],
      "metadata": {
        "colab": {
          "base_uri": "https://localhost:8080/",
          "height": 0
        },
        "id": "A6gT5J4h886q",
        "outputId": "2e57d424-5100-4cca-a324-1dccadd1e0a7"
      },
      "execution_count": 57,
      "outputs": [
        {
          "output_type": "stream",
          "name": "stderr",
          "text": [
            ".F.\n",
            "======================================================================\n",
            "FAIL: test_negetive_case (__main__.TestGetAreaRectangle)\n",
            "expect -1 as output to denote error when looking at negetive area\n",
            "----------------------------------------------------------------------\n",
            "Traceback (most recent call last):\n",
            "  File \"<ipython-input-57-c083527a0cac>\", line 22, in test_negetive_case\n",
            "    self.assertEqual(rectangle.get_area(),-1,\"incorrect negetive output \")\n",
            "AssertionError: -2 != -1 : incorrect negetive output \n",
            "\n",
            "----------------------------------------------------------------------\n",
            "Ran 3 tests in 0.008s\n",
            "\n",
            "FAILED (failures=1)\n"
          ]
        }
      ]
    },
    {
      "cell_type": "code",
      "source": [
        "class TestGetAreaRectangleWithSetup(unittest.TestCase):\n",
        "      def setUp(self):\n",
        "        self.rectangle=Rectangle(0,0)\n",
        "      def test_normal_case(self):\n",
        "        self.rectangle.set_width(2)\n",
        "        self.rectangle.set_height(3)\n",
        "        self.assertEqual(self.rectangle.get_area(),6,'incorrect area')\n",
        "\n",
        "      def test_negetive_case(self):\n",
        "        #expect -1 as output to denote error when looking at negetive area\n",
        "\n",
        "        self.rectangle.set_width(-1)\n",
        "        self.rectangle.set_height(2)\n",
        "        self.assertEqual(self.rectangle.get_area(),-1, 'incorrect negetive output')\n",
        "\n",
        "unittest.main(argv=['first-arg-is-ignored'], exit=False)"
      ],
      "metadata": {
        "colab": {
          "base_uri": "https://localhost:8080/",
          "height": 0
        },
        "id": "RgpWVW1s9E4u",
        "outputId": "94e9001b-0789-48ab-b3af-7c336919292a"
      },
      "execution_count": 61,
      "outputs": [
        {
          "output_type": "stream",
          "name": "stderr",
          "text": [
            ".F.F.\n",
            "======================================================================\n",
            "FAIL: test_negetive_case (__main__.TestGetAreaRectangle)\n",
            "expect -1 as output to denote error when looking at negetive area\n",
            "----------------------------------------------------------------------\n",
            "Traceback (most recent call last):\n",
            "  File \"<ipython-input-57-c083527a0cac>\", line 22, in test_negetive_case\n",
            "    self.assertEqual(rectangle.get_area(),-1,\"incorrect negetive output \")\n",
            "AssertionError: -2 != -1 : incorrect negetive output \n",
            "\n",
            "======================================================================\n",
            "FAIL: test_negetive_case (__main__.TestGetAreaRectangleWithSetup)\n",
            "----------------------------------------------------------------------\n",
            "Traceback (most recent call last):\n",
            "  File \"<ipython-input-61-c4a9e448b7a5>\", line 14, in test_negetive_case\n",
            "    self.assertEqual(self.rectangle.get_area(),-1, 'incorrect negetive output')\n",
            "AssertionError: -2 != -1 : incorrect negetive output\n",
            "\n",
            "----------------------------------------------------------------------\n",
            "Ran 5 tests in 0.015s\n",
            "\n",
            "FAILED (failures=2)\n"
          ]
        },
        {
          "output_type": "execute_result",
          "data": {
            "text/plain": [
              "<unittest.main.TestProgram at 0x7f691948fa30>"
            ]
          },
          "metadata": {},
          "execution_count": 61
        }
      ]
    },
    {
      "cell_type": "code",
      "source": [
        "#By using teardown() method\n",
        "class TestGetAreaRectangleWithSetUp(unittest.TestCase):\n",
        "      @classmethod\n",
        "      def setUpClass(self):\n",
        "        self.rectangle=Rectangle(0,0)\n",
        "      def test_normal_case(self):\n",
        "        self.rectangle.set_width(2)\n",
        "        self.rectangle.set_height(3)\n",
        "        self.assertEqual(self.rectangle.get_area(),6,'incorrect area')\n",
        "\n",
        "      def test_negetive_case(self):\n",
        "        #expect -1 as output to denote error when looking at negetive area\n",
        "\n",
        "        self.rectangle.set_width(-1)\n",
        "        self.rectangle.set_height(2)\n",
        "        self.assertEqual(self.rectangle.get_area(),-1, 'incorrect negetive output')\n",
        "      \n",
        "calculate_area_suite=unittest.TestLoader().loadTestsFromTestCase(TestGetAreaRectangleWithSetUp)\n",
        "unittest.main(argv=['first-arg-is-ignored'], exit=False)"
      ],
      "metadata": {
        "colab": {
          "base_uri": "https://localhost:8080/",
          "height": 0
        },
        "id": "4LqTPcG__mLL",
        "outputId": "305cb742-d77d-4197-826b-ee9f8fc2bef0"
      },
      "execution_count": 76,
      "outputs": [
        {
          "output_type": "stream",
          "name": "stderr",
          "text": [
            ".F.F.F.\n",
            "======================================================================\n",
            "FAIL: test_negetive_case (__main__.TestGetAreaRectangle)\n",
            "expect -1 as output to denote error when looking at negetive area\n",
            "----------------------------------------------------------------------\n",
            "Traceback (most recent call last):\n",
            "  File \"<ipython-input-57-c083527a0cac>\", line 22, in test_negetive_case\n",
            "    self.assertEqual(rectangle.get_area(),-1,\"incorrect negetive output \")\n",
            "AssertionError: -2 != -1 : incorrect negetive output \n",
            "\n",
            "======================================================================\n",
            "FAIL: test_negetive_case (__main__.TestGetAreaRectangleWithSetUp)\n",
            "----------------------------------------------------------------------\n",
            "Traceback (most recent call last):\n",
            "  File \"<ipython-input-76-8634793f52d8>\", line 16, in test_negetive_case\n",
            "    self.assertEqual(self.rectangle.get_area(),-1, 'incorrect negetive output')\n",
            "AssertionError: -2 != -1 : incorrect negetive output\n",
            "\n",
            "======================================================================\n",
            "FAIL: test_negetive_case (__main__.TestGetAreaRectangleWithSetup)\n",
            "----------------------------------------------------------------------\n",
            "Traceback (most recent call last):\n",
            "  File \"<ipython-input-62-39c7384a8e69>\", line 16, in test_negetive_case\n",
            "    self.assertEqual(self.rectangle.get_area(),-1, 'incorrect negetive output')\n",
            "AssertionError: -2 != -1 : incorrect negetive output\n",
            "\n",
            "----------------------------------------------------------------------\n",
            "Ran 7 tests in 0.022s\n",
            "\n",
            "FAILED (failures=3)\n"
          ]
        },
        {
          "output_type": "execute_result",
          "data": {
            "text/plain": [
              "<unittest.main.TestProgram at 0x7f6919542470>"
            ]
          },
          "metadata": {},
          "execution_count": 76
        }
      ]
    },
    {
      "cell_type": "code",
      "source": [
        "# Another way to run tests in PyUnit by using unittest.TextTestRunner class\n",
        "runner=unittest.TextTestRunner()\n",
        "runner.run(calculate_area_suite)"
      ],
      "metadata": {
        "colab": {
          "base_uri": "https://localhost:8080/",
          "height": 0
        },
        "id": "OKEj2PwbAktK",
        "outputId": "4a8282ab-7937-414b-c7d7-a9efaced9b25"
      },
      "execution_count": 77,
      "outputs": [
        {
          "output_type": "stream",
          "name": "stderr",
          "text": [
            "F.\n",
            "======================================================================\n",
            "FAIL: test_negetive_case (__main__.TestGetAreaRectangleWithSetUp)\n",
            "----------------------------------------------------------------------\n",
            "Traceback (most recent call last):\n",
            "  File \"<ipython-input-76-8634793f52d8>\", line 16, in test_negetive_case\n",
            "    self.assertEqual(self.rectangle.get_area(),-1, 'incorrect negetive output')\n",
            "AssertionError: -2 != -1 : incorrect negetive output\n",
            "\n",
            "----------------------------------------------------------------------\n",
            "Ran 2 tests in 0.003s\n",
            "\n",
            "FAILED (failures=1)\n"
          ]
        },
        {
          "output_type": "execute_result",
          "data": {
            "text/plain": [
              "<unittest.runner.TextTestResult run=2 errors=0 failures=1>"
            ]
          },
          "metadata": {},
          "execution_count": 77
        }
      ]
    },
    {
      "cell_type": "code",
      "source": [
        "class TestGetAreaRectangleWithSetUp(unittest.TestCase):\n",
        "      @classmethod\n",
        "      def setUpClass(self):\n",
        "        self.rectangle=Rectangle(0,0)\n",
        "      def test_normal_case(self):\n",
        "        self.rectangle.set_width(2)\n",
        "        self.rectangle.set_height(3)\n",
        "        self.assertEqual(self.rectangle.get_area(),6,'incorrect area')\n",
        "\n",
        "      def test_geq(self):\n",
        "        #tests if the value is greater than equal to a particualr target\n",
        "          self.assertGreaterEqual(self.rectangle.get_area(),-1)\n",
        "      \n",
        "      def test_assert_raises(self):\n",
        "         #using assert raises to detect if an expected error is raised when running a particular block of code\n",
        "          with self.assertRaises(ZeroDivisionError): \n",
        "            a=1/0\n",
        "\n",
        "if __name__== '__main__':\n",
        "\n",
        "  #Run the Test\n",
        "    unittest.main(argv=['first-arg-is-ignored'], exit=False)\n"
      ],
      "metadata": {
        "colab": {
          "base_uri": "https://localhost:8080/",
          "height": 0
        },
        "id": "b7HhnciGBYrH",
        "outputId": "fb17131f-4810-4271-e45e-adb2a856aeb1"
      },
      "execution_count": 78,
      "outputs": [
        {
          "output_type": "stream",
          "name": "stderr",
          "text": [
            ".F....F.\n",
            "======================================================================\n",
            "FAIL: test_negetive_case (__main__.TestGetAreaRectangle)\n",
            "expect -1 as output to denote error when looking at negetive area\n",
            "----------------------------------------------------------------------\n",
            "Traceback (most recent call last):\n",
            "  File \"<ipython-input-57-c083527a0cac>\", line 22, in test_negetive_case\n",
            "    self.assertEqual(rectangle.get_area(),-1,\"incorrect negetive output \")\n",
            "AssertionError: -2 != -1 : incorrect negetive output \n",
            "\n",
            "======================================================================\n",
            "FAIL: test_negetive_case (__main__.TestGetAreaRectangleWithSetup)\n",
            "----------------------------------------------------------------------\n",
            "Traceback (most recent call last):\n",
            "  File \"<ipython-input-62-39c7384a8e69>\", line 16, in test_negetive_case\n",
            "    self.assertEqual(self.rectangle.get_area(),-1, 'incorrect negetive output')\n",
            "AssertionError: -2 != -1 : incorrect negetive output\n",
            "\n",
            "----------------------------------------------------------------------\n",
            "Ran 8 tests in 0.015s\n",
            "\n",
            "FAILED (failures=2)\n"
          ]
        }
      ]
    },
    {
      "cell_type": "markdown",
      "source": [
        "#Using PyTest"
      ],
      "metadata": {
        "id": "wzAF9XsVDLp2"
      }
    },
    {
      "cell_type": "code",
      "source": [
        "pip install pytest"
      ],
      "metadata": {
        "colab": {
          "base_uri": "https://localhost:8080/",
          "height": 0
        },
        "id": "H_nWKAc1DHjA",
        "outputId": "1d0a4a1b-1c79-489e-b3c5-3227da1b23c9"
      },
      "execution_count": 79,
      "outputs": [
        {
          "output_type": "stream",
          "name": "stdout",
          "text": [
            "Looking in indexes: https://pypi.org/simple, https://us-python.pkg.dev/colab-wheels/public/simple/\n",
            "Requirement already satisfied: pytest in /usr/local/lib/python3.10/dist-packages (7.2.2)\n",
            "Requirement already satisfied: exceptiongroup>=1.0.0rc8 in /usr/local/lib/python3.10/dist-packages (from pytest) (1.1.1)\n",
            "Requirement already satisfied: iniconfig in /usr/local/lib/python3.10/dist-packages (from pytest) (2.0.0)\n",
            "Requirement already satisfied: pluggy<2.0,>=0.12 in /usr/local/lib/python3.10/dist-packages (from pytest) (1.0.0)\n",
            "Requirement already satisfied: attrs>=19.2.0 in /usr/local/lib/python3.10/dist-packages (from pytest) (23.1.0)\n",
            "Requirement already satisfied: packaging in /usr/local/lib/python3.10/dist-packages (from pytest) (23.1)\n",
            "Requirement already satisfied: tomli>=1.0.0 in /usr/local/lib/python3.10/dist-packages (from pytest) (2.0.1)\n"
          ]
        }
      ]
    },
    {
      "cell_type": "code",
      "source": [
        "#you need to write functions with names prefixed with 'test' \n",
        "class Rectangle:\n",
        "    def __init__(self,width,height):\n",
        "        self.width=width\n",
        "        self.height=height\n",
        "\n",
        "    def get_area(self):\n",
        "        return self.width*self.height\n",
        "\n",
        "    def set_width(self,width):\n",
        "        self.width=width\n",
        "\n",
        "    def set_height(self,height):\n",
        "        self.height=height\n",
        "# The test function to be executed by Pytest\n",
        "def test_normal_case(self):\n",
        "  rectangle=Rectangle(2,3)\n",
        "  assert rectangle.get_area()==6,'Incorrect area'"
      ],
      "metadata": {
        "id": "c0XwyKQNDS5Q"
      },
      "execution_count": 81,
      "outputs": []
    },
    {
      "cell_type": "code",
      "source": [],
      "metadata": {
        "id": "WhqBhPPiEYBx"
      },
      "execution_count": null,
      "outputs": []
    }
  ]
}